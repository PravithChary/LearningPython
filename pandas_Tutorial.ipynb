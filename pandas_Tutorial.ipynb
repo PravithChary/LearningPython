{
 "cells": [
  {
   "cell_type": "markdown",
   "id": "829071ea",
   "metadata": {},
   "source": [
    "# Introduction to pandas"
   ]
  },
  {
   "cell_type": "markdown",
   "id": "b33e2c6f",
   "metadata": {},
   "source": [
    "---------------------------------"
   ]
  },
  {
   "cell_type": "markdown",
   "id": "8626c56a",
   "metadata": {},
   "source": [
    "**What is pandas**\n",
    "\n",
    "- *Pandas is an open source data analysis library written in python*\n",
    "\n",
    "- *It leverages the power and speed of numpy to make data analysis and preprocessing easy for data scientists*\n",
    "\n",
    "- *It provides rich and highly robust data operations*"
   ]
  },
  {
   "cell_type": "markdown",
   "id": "daadec29",
   "metadata": {},
   "source": [
    "**Pandas data structure**\n",
    "\n",
    "*Pandas has two types of data structures:*\n",
    " \n",
    "- *a)Series - It's a one dimensional array with indices, it stores a single column or row of data in a Dataframe*\n",
    "\n",
    "- *b)DataFrame - It's a tabular spreadsheet like structure representing rows each of which contains one or multiple columns*\n",
    "\n",
    "*A one-dimensional array(labeled) capable of holding any type of data - Series*\n",
    "\n",
    "*A two-dimensional data(labeled) structure with columns of potentially different types of data - DataFrame*"
   ]
  },
  {
   "cell_type": "markdown",
   "id": "4e1a9b03",
   "metadata": {},
   "source": [
    "-------------------------------------------------"
   ]
  },
  {
   "cell_type": "code",
   "execution_count": 203,
   "id": "8fbe7552",
   "metadata": {},
   "outputs": [],
   "source": [
    "import numpy as np\n",
    "import pandas as pd"
   ]
  },
  {
   "cell_type": "markdown",
   "id": "44a96f9e",
   "metadata": {},
   "source": [
    "**DataFrame**"
   ]
  },
  {
   "cell_type": "code",
   "execution_count": 204,
   "id": "b22569d7",
   "metadata": {},
   "outputs": [],
   "source": [
    "dict1 = {\n",
    "    \"name\" : ['harry', 'rohan', 'skillf', 'shubh'],\n",
    "    \"marks\" : [92,34,24,17],\n",
    "    \"city\" :['rampur', 'kolkata','bareilly', 'antartica']\n",
    "}"
   ]
  },
  {
   "cell_type": "code",
   "execution_count": 205,
   "id": "e77e5aa6",
   "metadata": {},
   "outputs": [],
   "source": [
    "df = pd.DataFrame(dict1)"
   ]
  },
  {
   "cell_type": "code",
   "execution_count": 206,
   "id": "4f302657",
   "metadata": {},
   "outputs": [
    {
     "data": {
      "text/html": [
       "<div>\n",
       "<style scoped>\n",
       "    .dataframe tbody tr th:only-of-type {\n",
       "        vertical-align: middle;\n",
       "    }\n",
       "\n",
       "    .dataframe tbody tr th {\n",
       "        vertical-align: top;\n",
       "    }\n",
       "\n",
       "    .dataframe thead th {\n",
       "        text-align: right;\n",
       "    }\n",
       "</style>\n",
       "<table border=\"1\" class=\"dataframe\">\n",
       "  <thead>\n",
       "    <tr style=\"text-align: right;\">\n",
       "      <th></th>\n",
       "      <th>name</th>\n",
       "      <th>marks</th>\n",
       "      <th>city</th>\n",
       "    </tr>\n",
       "  </thead>\n",
       "  <tbody>\n",
       "    <tr>\n",
       "      <th>0</th>\n",
       "      <td>harry</td>\n",
       "      <td>92</td>\n",
       "      <td>rampur</td>\n",
       "    </tr>\n",
       "    <tr>\n",
       "      <th>1</th>\n",
       "      <td>rohan</td>\n",
       "      <td>34</td>\n",
       "      <td>kolkata</td>\n",
       "    </tr>\n",
       "    <tr>\n",
       "      <th>2</th>\n",
       "      <td>skillf</td>\n",
       "      <td>24</td>\n",
       "      <td>bareilly</td>\n",
       "    </tr>\n",
       "    <tr>\n",
       "      <th>3</th>\n",
       "      <td>shubh</td>\n",
       "      <td>17</td>\n",
       "      <td>antartica</td>\n",
       "    </tr>\n",
       "  </tbody>\n",
       "</table>\n",
       "</div>"
      ],
      "text/plain": [
       "     name  marks       city\n",
       "0   harry     92     rampur\n",
       "1   rohan     34    kolkata\n",
       "2  skillf     24   bareilly\n",
       "3   shubh     17  antartica"
      ]
     },
     "execution_count": 206,
     "metadata": {},
     "output_type": "execute_result"
    }
   ],
   "source": [
    "df"
   ]
  },
  {
   "cell_type": "markdown",
   "id": "b70bc54d",
   "metadata": {},
   "source": [
    "converting into a csv but the indices get added in the first column"
   ]
  },
  {
   "cell_type": "code",
   "execution_count": 207,
   "id": "ea2ac725",
   "metadata": {},
   "outputs": [],
   "source": [
    "df.to_csv('friends.csv')"
   ]
  },
  {
   "cell_type": "markdown",
   "id": "63db47cd",
   "metadata": {},
   "source": [
    "to remove the indices"
   ]
  },
  {
   "cell_type": "code",
   "execution_count": 208,
   "id": "06d1dcf4",
   "metadata": {},
   "outputs": [],
   "source": [
    "df.to_csv('friends_index_false.csv', index = False)"
   ]
  },
  {
   "cell_type": "markdown",
   "id": "c0246c8c",
   "metadata": {},
   "source": [
    "to get the first n (here n = 2) rows"
   ]
  },
  {
   "cell_type": "code",
   "execution_count": 209,
   "id": "df9b21e3",
   "metadata": {},
   "outputs": [
    {
     "data": {
      "text/html": [
       "<div>\n",
       "<style scoped>\n",
       "    .dataframe tbody tr th:only-of-type {\n",
       "        vertical-align: middle;\n",
       "    }\n",
       "\n",
       "    .dataframe tbody tr th {\n",
       "        vertical-align: top;\n",
       "    }\n",
       "\n",
       "    .dataframe thead th {\n",
       "        text-align: right;\n",
       "    }\n",
       "</style>\n",
       "<table border=\"1\" class=\"dataframe\">\n",
       "  <thead>\n",
       "    <tr style=\"text-align: right;\">\n",
       "      <th></th>\n",
       "      <th>name</th>\n",
       "      <th>marks</th>\n",
       "      <th>city</th>\n",
       "    </tr>\n",
       "  </thead>\n",
       "  <tbody>\n",
       "    <tr>\n",
       "      <th>0</th>\n",
       "      <td>harry</td>\n",
       "      <td>92</td>\n",
       "      <td>rampur</td>\n",
       "    </tr>\n",
       "    <tr>\n",
       "      <th>1</th>\n",
       "      <td>rohan</td>\n",
       "      <td>34</td>\n",
       "      <td>kolkata</td>\n",
       "    </tr>\n",
       "  </tbody>\n",
       "</table>\n",
       "</div>"
      ],
      "text/plain": [
       "    name  marks     city\n",
       "0  harry     92   rampur\n",
       "1  rohan     34  kolkata"
      ]
     },
     "execution_count": 209,
     "metadata": {},
     "output_type": "execute_result"
    }
   ],
   "source": [
    "df.head(2)"
   ]
  },
  {
   "cell_type": "markdown",
   "id": "bd9a38a7",
   "metadata": {},
   "source": [
    "to get the last n (here n = 2) rows"
   ]
  },
  {
   "cell_type": "code",
   "execution_count": 210,
   "id": "9bbf2d55",
   "metadata": {},
   "outputs": [
    {
     "data": {
      "text/html": [
       "<div>\n",
       "<style scoped>\n",
       "    .dataframe tbody tr th:only-of-type {\n",
       "        vertical-align: middle;\n",
       "    }\n",
       "\n",
       "    .dataframe tbody tr th {\n",
       "        vertical-align: top;\n",
       "    }\n",
       "\n",
       "    .dataframe thead th {\n",
       "        text-align: right;\n",
       "    }\n",
       "</style>\n",
       "<table border=\"1\" class=\"dataframe\">\n",
       "  <thead>\n",
       "    <tr style=\"text-align: right;\">\n",
       "      <th></th>\n",
       "      <th>name</th>\n",
       "      <th>marks</th>\n",
       "      <th>city</th>\n",
       "    </tr>\n",
       "  </thead>\n",
       "  <tbody>\n",
       "    <tr>\n",
       "      <th>2</th>\n",
       "      <td>skillf</td>\n",
       "      <td>24</td>\n",
       "      <td>bareilly</td>\n",
       "    </tr>\n",
       "    <tr>\n",
       "      <th>3</th>\n",
       "      <td>shubh</td>\n",
       "      <td>17</td>\n",
       "      <td>antartica</td>\n",
       "    </tr>\n",
       "  </tbody>\n",
       "</table>\n",
       "</div>"
      ],
      "text/plain": [
       "     name  marks       city\n",
       "2  skillf     24   bareilly\n",
       "3   shubh     17  antartica"
      ]
     },
     "execution_count": 210,
     "metadata": {},
     "output_type": "execute_result"
    }
   ],
   "source": [
    "df.tail(2)"
   ]
  },
  {
   "cell_type": "markdown",
   "id": "bf0751f7",
   "metadata": {},
   "source": [
    "describe() function gives some of the solved arithmetic operations of the columns which have numericals"
   ]
  },
  {
   "cell_type": "code",
   "execution_count": 211,
   "id": "f6f76b06",
   "metadata": {},
   "outputs": [
    {
     "data": {
      "text/html": [
       "<div>\n",
       "<style scoped>\n",
       "    .dataframe tbody tr th:only-of-type {\n",
       "        vertical-align: middle;\n",
       "    }\n",
       "\n",
       "    .dataframe tbody tr th {\n",
       "        vertical-align: top;\n",
       "    }\n",
       "\n",
       "    .dataframe thead th {\n",
       "        text-align: right;\n",
       "    }\n",
       "</style>\n",
       "<table border=\"1\" class=\"dataframe\">\n",
       "  <thead>\n",
       "    <tr style=\"text-align: right;\">\n",
       "      <th></th>\n",
       "      <th>marks</th>\n",
       "    </tr>\n",
       "  </thead>\n",
       "  <tbody>\n",
       "    <tr>\n",
       "      <th>count</th>\n",
       "      <td>4.00000</td>\n",
       "    </tr>\n",
       "    <tr>\n",
       "      <th>mean</th>\n",
       "      <td>41.75000</td>\n",
       "    </tr>\n",
       "    <tr>\n",
       "      <th>std</th>\n",
       "      <td>34.21866</td>\n",
       "    </tr>\n",
       "    <tr>\n",
       "      <th>min</th>\n",
       "      <td>17.00000</td>\n",
       "    </tr>\n",
       "    <tr>\n",
       "      <th>25%</th>\n",
       "      <td>22.25000</td>\n",
       "    </tr>\n",
       "    <tr>\n",
       "      <th>50%</th>\n",
       "      <td>29.00000</td>\n",
       "    </tr>\n",
       "    <tr>\n",
       "      <th>75%</th>\n",
       "      <td>48.50000</td>\n",
       "    </tr>\n",
       "    <tr>\n",
       "      <th>max</th>\n",
       "      <td>92.00000</td>\n",
       "    </tr>\n",
       "  </tbody>\n",
       "</table>\n",
       "</div>"
      ],
      "text/plain": [
       "          marks\n",
       "count   4.00000\n",
       "mean   41.75000\n",
       "std    34.21866\n",
       "min    17.00000\n",
       "25%    22.25000\n",
       "50%    29.00000\n",
       "75%    48.50000\n",
       "max    92.00000"
      ]
     },
     "execution_count": 211,
     "metadata": {},
     "output_type": "execute_result"
    }
   ],
   "source": [
    "df.describe()"
   ]
  },
  {
   "cell_type": "markdown",
   "id": "7bd9345a",
   "metadata": {},
   "source": [
    "**Reading a CSV**\n",
    "\n",
    "but the pandas converts it into a dataframe and reads it. so here pravith variable is a dataframe now"
   ]
  },
  {
   "cell_type": "code",
   "execution_count": 212,
   "id": "1ad03115",
   "metadata": {},
   "outputs": [],
   "source": [
    "pravith = pd.read_csv('pravith.csv')"
   ]
  },
  {
   "cell_type": "code",
   "execution_count": 213,
   "id": "3defd1db",
   "metadata": {},
   "outputs": [
    {
     "data": {
      "text/html": [
       "<div>\n",
       "<style scoped>\n",
       "    .dataframe tbody tr th:only-of-type {\n",
       "        vertical-align: middle;\n",
       "    }\n",
       "\n",
       "    .dataframe tbody tr th {\n",
       "        vertical-align: top;\n",
       "    }\n",
       "\n",
       "    .dataframe thead th {\n",
       "        text-align: right;\n",
       "    }\n",
       "</style>\n",
       "<table border=\"1\" class=\"dataframe\">\n",
       "  <thead>\n",
       "    <tr style=\"text-align: right;\">\n",
       "      <th></th>\n",
       "      <th>Unnamed: 0.4</th>\n",
       "      <th>Unnamed: 0.3</th>\n",
       "      <th>Unnamed: 0.2</th>\n",
       "      <th>Unnamed: 0.1</th>\n",
       "      <th>Unnamed: 0</th>\n",
       "      <th>Train No</th>\n",
       "      <th>Speed</th>\n",
       "      <th>City</th>\n",
       "    </tr>\n",
       "  </thead>\n",
       "  <tbody>\n",
       "    <tr>\n",
       "      <th>0</th>\n",
       "      <td>0</td>\n",
       "      <td>0</td>\n",
       "      <td>0</td>\n",
       "      <td>0</td>\n",
       "      <td>0</td>\n",
       "      <td>12322</td>\n",
       "      <td>50</td>\n",
       "      <td>rampur</td>\n",
       "    </tr>\n",
       "    <tr>\n",
       "      <th>1</th>\n",
       "      <td>1</td>\n",
       "      <td>1</td>\n",
       "      <td>1</td>\n",
       "      <td>1</td>\n",
       "      <td>1</td>\n",
       "      <td>12534</td>\n",
       "      <td>123</td>\n",
       "      <td>kolkata</td>\n",
       "    </tr>\n",
       "    <tr>\n",
       "      <th>2</th>\n",
       "      <td>2</td>\n",
       "      <td>2</td>\n",
       "      <td>2</td>\n",
       "      <td>2</td>\n",
       "      <td>2</td>\n",
       "      <td>125654</td>\n",
       "      <td>67</td>\n",
       "      <td>bareilly</td>\n",
       "    </tr>\n",
       "    <tr>\n",
       "      <th>3</th>\n",
       "      <td>3</td>\n",
       "      <td>3</td>\n",
       "      <td>3</td>\n",
       "      <td>3</td>\n",
       "      <td>3</td>\n",
       "      <td>564523</td>\n",
       "      <td>87</td>\n",
       "      <td>antartica</td>\n",
       "    </tr>\n",
       "  </tbody>\n",
       "</table>\n",
       "</div>"
      ],
      "text/plain": [
       "   Unnamed: 0.4  Unnamed: 0.3  Unnamed: 0.2  Unnamed: 0.1  Unnamed: 0  \\\n",
       "0             0             0             0             0           0   \n",
       "1             1             1             1             1           1   \n",
       "2             2             2             2             2           2   \n",
       "3             3             3             3             3           3   \n",
       "\n",
       "   Train No  Speed       City  \n",
       "0     12322     50     rampur  \n",
       "1     12534    123    kolkata  \n",
       "2    125654     67   bareilly  \n",
       "3    564523     87  antartica  "
      ]
     },
     "execution_count": 213,
     "metadata": {},
     "output_type": "execute_result"
    }
   ],
   "source": [
    "pravith"
   ]
  },
  {
   "cell_type": "markdown",
   "id": "97647438",
   "metadata": {},
   "source": [
    "printing a column"
   ]
  },
  {
   "cell_type": "code",
   "execution_count": 214,
   "id": "376a996e",
   "metadata": {},
   "outputs": [
    {
     "data": {
      "text/plain": [
       "0     50\n",
       "1    123\n",
       "2     67\n",
       "3     87\n",
       "Name: Speed, dtype: int64"
      ]
     },
     "execution_count": 214,
     "metadata": {},
     "output_type": "execute_result"
    }
   ],
   "source": [
    "pravith['Speed']"
   ]
  },
  {
   "cell_type": "markdown",
   "id": "fab3013e",
   "metadata": {},
   "source": [
    "changing elements in the cells (ignore the warning for now)"
   ]
  },
  {
   "cell_type": "code",
   "execution_count": 215,
   "id": "83813fc5",
   "metadata": {},
   "outputs": [
    {
     "name": "stderr",
     "output_type": "stream",
     "text": [
      "/var/folders/j_/wy00vxfs2rx9l9_qrtb0fny00000gn/T/ipykernel_23305/2281889896.py:1: SettingWithCopyWarning: \n",
      "A value is trying to be set on a copy of a slice from a DataFrame\n",
      "\n",
      "See the caveats in the documentation: https://pandas.pydata.org/pandas-docs/stable/user_guide/indexing.html#returning-a-view-versus-a-copy\n",
      "  pravith['Speed'][0] = 50\n"
     ]
    }
   ],
   "source": [
    "pravith['Speed'][0] = 50"
   ]
  },
  {
   "cell_type": "code",
   "execution_count": 216,
   "id": "b7d69d43",
   "metadata": {},
   "outputs": [
    {
     "data": {
      "text/html": [
       "<div>\n",
       "<style scoped>\n",
       "    .dataframe tbody tr th:only-of-type {\n",
       "        vertical-align: middle;\n",
       "    }\n",
       "\n",
       "    .dataframe tbody tr th {\n",
       "        vertical-align: top;\n",
       "    }\n",
       "\n",
       "    .dataframe thead th {\n",
       "        text-align: right;\n",
       "    }\n",
       "</style>\n",
       "<table border=\"1\" class=\"dataframe\">\n",
       "  <thead>\n",
       "    <tr style=\"text-align: right;\">\n",
       "      <th></th>\n",
       "      <th>Unnamed: 0.4</th>\n",
       "      <th>Unnamed: 0.3</th>\n",
       "      <th>Unnamed: 0.2</th>\n",
       "      <th>Unnamed: 0.1</th>\n",
       "      <th>Unnamed: 0</th>\n",
       "      <th>Train No</th>\n",
       "      <th>Speed</th>\n",
       "      <th>City</th>\n",
       "    </tr>\n",
       "  </thead>\n",
       "  <tbody>\n",
       "    <tr>\n",
       "      <th>0</th>\n",
       "      <td>0</td>\n",
       "      <td>0</td>\n",
       "      <td>0</td>\n",
       "      <td>0</td>\n",
       "      <td>0</td>\n",
       "      <td>12322</td>\n",
       "      <td>50</td>\n",
       "      <td>rampur</td>\n",
       "    </tr>\n",
       "    <tr>\n",
       "      <th>1</th>\n",
       "      <td>1</td>\n",
       "      <td>1</td>\n",
       "      <td>1</td>\n",
       "      <td>1</td>\n",
       "      <td>1</td>\n",
       "      <td>12534</td>\n",
       "      <td>123</td>\n",
       "      <td>kolkata</td>\n",
       "    </tr>\n",
       "    <tr>\n",
       "      <th>2</th>\n",
       "      <td>2</td>\n",
       "      <td>2</td>\n",
       "      <td>2</td>\n",
       "      <td>2</td>\n",
       "      <td>2</td>\n",
       "      <td>125654</td>\n",
       "      <td>67</td>\n",
       "      <td>bareilly</td>\n",
       "    </tr>\n",
       "    <tr>\n",
       "      <th>3</th>\n",
       "      <td>3</td>\n",
       "      <td>3</td>\n",
       "      <td>3</td>\n",
       "      <td>3</td>\n",
       "      <td>3</td>\n",
       "      <td>564523</td>\n",
       "      <td>87</td>\n",
       "      <td>antartica</td>\n",
       "    </tr>\n",
       "  </tbody>\n",
       "</table>\n",
       "</div>"
      ],
      "text/plain": [
       "   Unnamed: 0.4  Unnamed: 0.3  Unnamed: 0.2  Unnamed: 0.1  Unnamed: 0  \\\n",
       "0             0             0             0             0           0   \n",
       "1             1             1             1             1           1   \n",
       "2             2             2             2             2           2   \n",
       "3             3             3             3             3           3   \n",
       "\n",
       "   Train No  Speed       City  \n",
       "0     12322     50     rampur  \n",
       "1     12534    123    kolkata  \n",
       "2    125654     67   bareilly  \n",
       "3    564523     87  antartica  "
      ]
     },
     "execution_count": 216,
     "metadata": {},
     "output_type": "execute_result"
    }
   ],
   "source": [
    "pravith"
   ]
  },
  {
   "cell_type": "markdown",
   "id": "771855bb",
   "metadata": {},
   "source": [
    "after changing the values, resaving the file"
   ]
  },
  {
   "cell_type": "code",
   "execution_count": 217,
   "id": "e7d53a02",
   "metadata": {},
   "outputs": [],
   "source": [
    "pravith.to_csv(\"pravith.csv\")"
   ]
  },
  {
   "cell_type": "markdown",
   "id": "92fb0d6e",
   "metadata": {},
   "source": [
    "renaming the indices"
   ]
  },
  {
   "cell_type": "code",
   "execution_count": 218,
   "id": "9c33bd8d",
   "metadata": {},
   "outputs": [],
   "source": [
    "pravith.index = ['first', 'second', 'third', 'forth' ]"
   ]
  },
  {
   "cell_type": "code",
   "execution_count": 219,
   "id": "8d39c290",
   "metadata": {},
   "outputs": [
    {
     "data": {
      "text/html": [
       "<div>\n",
       "<style scoped>\n",
       "    .dataframe tbody tr th:only-of-type {\n",
       "        vertical-align: middle;\n",
       "    }\n",
       "\n",
       "    .dataframe tbody tr th {\n",
       "        vertical-align: top;\n",
       "    }\n",
       "\n",
       "    .dataframe thead th {\n",
       "        text-align: right;\n",
       "    }\n",
       "</style>\n",
       "<table border=\"1\" class=\"dataframe\">\n",
       "  <thead>\n",
       "    <tr style=\"text-align: right;\">\n",
       "      <th></th>\n",
       "      <th>Unnamed: 0.4</th>\n",
       "      <th>Unnamed: 0.3</th>\n",
       "      <th>Unnamed: 0.2</th>\n",
       "      <th>Unnamed: 0.1</th>\n",
       "      <th>Unnamed: 0</th>\n",
       "      <th>Train No</th>\n",
       "      <th>Speed</th>\n",
       "      <th>City</th>\n",
       "    </tr>\n",
       "  </thead>\n",
       "  <tbody>\n",
       "    <tr>\n",
       "      <th>first</th>\n",
       "      <td>0</td>\n",
       "      <td>0</td>\n",
       "      <td>0</td>\n",
       "      <td>0</td>\n",
       "      <td>0</td>\n",
       "      <td>12322</td>\n",
       "      <td>50</td>\n",
       "      <td>rampur</td>\n",
       "    </tr>\n",
       "    <tr>\n",
       "      <th>second</th>\n",
       "      <td>1</td>\n",
       "      <td>1</td>\n",
       "      <td>1</td>\n",
       "      <td>1</td>\n",
       "      <td>1</td>\n",
       "      <td>12534</td>\n",
       "      <td>123</td>\n",
       "      <td>kolkata</td>\n",
       "    </tr>\n",
       "    <tr>\n",
       "      <th>third</th>\n",
       "      <td>2</td>\n",
       "      <td>2</td>\n",
       "      <td>2</td>\n",
       "      <td>2</td>\n",
       "      <td>2</td>\n",
       "      <td>125654</td>\n",
       "      <td>67</td>\n",
       "      <td>bareilly</td>\n",
       "    </tr>\n",
       "    <tr>\n",
       "      <th>forth</th>\n",
       "      <td>3</td>\n",
       "      <td>3</td>\n",
       "      <td>3</td>\n",
       "      <td>3</td>\n",
       "      <td>3</td>\n",
       "      <td>564523</td>\n",
       "      <td>87</td>\n",
       "      <td>antartica</td>\n",
       "    </tr>\n",
       "  </tbody>\n",
       "</table>\n",
       "</div>"
      ],
      "text/plain": [
       "        Unnamed: 0.4  Unnamed: 0.3  Unnamed: 0.2  Unnamed: 0.1  Unnamed: 0  \\\n",
       "first              0             0             0             0           0   \n",
       "second             1             1             1             1           1   \n",
       "third              2             2             2             2           2   \n",
       "forth              3             3             3             3           3   \n",
       "\n",
       "        Train No  Speed       City  \n",
       "first      12322     50     rampur  \n",
       "second     12534    123    kolkata  \n",
       "third     125654     67   bareilly  \n",
       "forth     564523     87  antartica  "
      ]
     },
     "execution_count": 219,
     "metadata": {},
     "output_type": "execute_result"
    }
   ],
   "source": [
    "pravith"
   ]
  },
  {
   "cell_type": "markdown",
   "id": "ef1a85d8",
   "metadata": {},
   "source": [
    "**Series**"
   ]
  },
  {
   "cell_type": "code",
   "execution_count": 220,
   "id": "b1667a81",
   "metadata": {},
   "outputs": [],
   "source": [
    "ser = pd.Series(np.random.rand(34))"
   ]
  },
  {
   "cell_type": "code",
   "execution_count": 221,
   "id": "d023e512",
   "metadata": {},
   "outputs": [
    {
     "data": {
      "text/plain": [
       "pandas.core.series.Series"
      ]
     },
     "execution_count": 221,
     "metadata": {},
     "output_type": "execute_result"
    }
   ],
   "source": [
    "type(ser)"
   ]
  },
  {
   "cell_type": "code",
   "execution_count": 222,
   "id": "74774055",
   "metadata": {},
   "outputs": [
    {
     "data": {
      "text/plain": [
       "0     0.052184\n",
       "1     0.779164\n",
       "2     0.704585\n",
       "3     0.381021\n",
       "4     0.068627\n",
       "5     0.457801\n",
       "6     0.100164\n",
       "7     0.173520\n",
       "8     0.691598\n",
       "9     0.681965\n",
       "10    0.988326\n",
       "11    0.710068\n",
       "12    0.212687\n",
       "13    0.495911\n",
       "14    0.072384\n",
       "15    0.954232\n",
       "16    0.349935\n",
       "17    0.227867\n",
       "18    0.154899\n",
       "19    0.916824\n",
       "20    0.004148\n",
       "21    0.618509\n",
       "22    0.729096\n",
       "23    0.122566\n",
       "24    0.399871\n",
       "25    0.022402\n",
       "26    0.923234\n",
       "27    0.299492\n",
       "28    0.838385\n",
       "29    0.078616\n",
       "30    0.612715\n",
       "31    0.680572\n",
       "32    0.836693\n",
       "33    0.059686\n",
       "dtype: float64"
      ]
     },
     "execution_count": 222,
     "metadata": {},
     "output_type": "execute_result"
    }
   ],
   "source": [
    "ser"
   ]
  },
  {
   "cell_type": "markdown",
   "id": "f86183cc",
   "metadata": {},
   "source": [
    "----"
   ]
  },
  {
   "cell_type": "code",
   "execution_count": 223,
   "id": "7acf76e6",
   "metadata": {},
   "outputs": [],
   "source": [
    "newdf = pd.DataFrame(np.random.rand(334,5), index=np.arange(334))"
   ]
  },
  {
   "cell_type": "code",
   "execution_count": 224,
   "id": "4b92a9fa",
   "metadata": {},
   "outputs": [
    {
     "data": {
      "text/plain": [
       "pandas.core.frame.DataFrame"
      ]
     },
     "execution_count": 224,
     "metadata": {},
     "output_type": "execute_result"
    }
   ],
   "source": [
    "type(newdf)"
   ]
  },
  {
   "cell_type": "code",
   "execution_count": 225,
   "id": "986e79a2",
   "metadata": {},
   "outputs": [
    {
     "data": {
      "text/html": [
       "<div>\n",
       "<style scoped>\n",
       "    .dataframe tbody tr th:only-of-type {\n",
       "        vertical-align: middle;\n",
       "    }\n",
       "\n",
       "    .dataframe tbody tr th {\n",
       "        vertical-align: top;\n",
       "    }\n",
       "\n",
       "    .dataframe thead th {\n",
       "        text-align: right;\n",
       "    }\n",
       "</style>\n",
       "<table border=\"1\" class=\"dataframe\">\n",
       "  <thead>\n",
       "    <tr style=\"text-align: right;\">\n",
       "      <th></th>\n",
       "      <th>0</th>\n",
       "      <th>1</th>\n",
       "      <th>2</th>\n",
       "      <th>3</th>\n",
       "      <th>4</th>\n",
       "    </tr>\n",
       "  </thead>\n",
       "  <tbody>\n",
       "    <tr>\n",
       "      <th>0</th>\n",
       "      <td>0.761745</td>\n",
       "      <td>0.553429</td>\n",
       "      <td>0.280314</td>\n",
       "      <td>0.536155</td>\n",
       "      <td>0.956668</td>\n",
       "    </tr>\n",
       "    <tr>\n",
       "      <th>1</th>\n",
       "      <td>0.661149</td>\n",
       "      <td>0.364377</td>\n",
       "      <td>0.382680</td>\n",
       "      <td>0.286471</td>\n",
       "      <td>0.293963</td>\n",
       "    </tr>\n",
       "    <tr>\n",
       "      <th>2</th>\n",
       "      <td>0.732445</td>\n",
       "      <td>0.651605</td>\n",
       "      <td>0.221675</td>\n",
       "      <td>0.410623</td>\n",
       "      <td>0.775324</td>\n",
       "    </tr>\n",
       "    <tr>\n",
       "      <th>3</th>\n",
       "      <td>0.075717</td>\n",
       "      <td>0.585709</td>\n",
       "      <td>0.092021</td>\n",
       "      <td>0.532596</td>\n",
       "      <td>0.743838</td>\n",
       "    </tr>\n",
       "    <tr>\n",
       "      <th>4</th>\n",
       "      <td>0.969634</td>\n",
       "      <td>0.056530</td>\n",
       "      <td>0.615939</td>\n",
       "      <td>0.577099</td>\n",
       "      <td>0.953095</td>\n",
       "    </tr>\n",
       "    <tr>\n",
       "      <th>...</th>\n",
       "      <td>...</td>\n",
       "      <td>...</td>\n",
       "      <td>...</td>\n",
       "      <td>...</td>\n",
       "      <td>...</td>\n",
       "    </tr>\n",
       "    <tr>\n",
       "      <th>329</th>\n",
       "      <td>0.470670</td>\n",
       "      <td>0.270655</td>\n",
       "      <td>0.085958</td>\n",
       "      <td>0.105299</td>\n",
       "      <td>0.498442</td>\n",
       "    </tr>\n",
       "    <tr>\n",
       "      <th>330</th>\n",
       "      <td>0.592158</td>\n",
       "      <td>0.062938</td>\n",
       "      <td>0.127649</td>\n",
       "      <td>0.304817</td>\n",
       "      <td>0.579669</td>\n",
       "    </tr>\n",
       "    <tr>\n",
       "      <th>331</th>\n",
       "      <td>0.288743</td>\n",
       "      <td>0.843733</td>\n",
       "      <td>0.252554</td>\n",
       "      <td>0.564244</td>\n",
       "      <td>0.906881</td>\n",
       "    </tr>\n",
       "    <tr>\n",
       "      <th>332</th>\n",
       "      <td>0.993500</td>\n",
       "      <td>0.684352</td>\n",
       "      <td>0.196891</td>\n",
       "      <td>0.514855</td>\n",
       "      <td>0.696257</td>\n",
       "    </tr>\n",
       "    <tr>\n",
       "      <th>333</th>\n",
       "      <td>0.060533</td>\n",
       "      <td>0.737999</td>\n",
       "      <td>0.245474</td>\n",
       "      <td>0.192721</td>\n",
       "      <td>0.563918</td>\n",
       "    </tr>\n",
       "  </tbody>\n",
       "</table>\n",
       "<p>334 rows × 5 columns</p>\n",
       "</div>"
      ],
      "text/plain": [
       "            0         1         2         3         4\n",
       "0    0.761745  0.553429  0.280314  0.536155  0.956668\n",
       "1    0.661149  0.364377  0.382680  0.286471  0.293963\n",
       "2    0.732445  0.651605  0.221675  0.410623  0.775324\n",
       "3    0.075717  0.585709  0.092021  0.532596  0.743838\n",
       "4    0.969634  0.056530  0.615939  0.577099  0.953095\n",
       "..        ...       ...       ...       ...       ...\n",
       "329  0.470670  0.270655  0.085958  0.105299  0.498442\n",
       "330  0.592158  0.062938  0.127649  0.304817  0.579669\n",
       "331  0.288743  0.843733  0.252554  0.564244  0.906881\n",
       "332  0.993500  0.684352  0.196891  0.514855  0.696257\n",
       "333  0.060533  0.737999  0.245474  0.192721  0.563918\n",
       "\n",
       "[334 rows x 5 columns]"
      ]
     },
     "execution_count": 225,
     "metadata": {},
     "output_type": "execute_result"
    }
   ],
   "source": [
    "newdf"
   ]
  },
  {
   "cell_type": "code",
   "execution_count": 226,
   "id": "e0ca74fa",
   "metadata": {},
   "outputs": [
    {
     "data": {
      "text/html": [
       "<div>\n",
       "<style scoped>\n",
       "    .dataframe tbody tr th:only-of-type {\n",
       "        vertical-align: middle;\n",
       "    }\n",
       "\n",
       "    .dataframe tbody tr th {\n",
       "        vertical-align: top;\n",
       "    }\n",
       "\n",
       "    .dataframe thead th {\n",
       "        text-align: right;\n",
       "    }\n",
       "</style>\n",
       "<table border=\"1\" class=\"dataframe\">\n",
       "  <thead>\n",
       "    <tr style=\"text-align: right;\">\n",
       "      <th></th>\n",
       "      <th>0</th>\n",
       "      <th>1</th>\n",
       "      <th>2</th>\n",
       "      <th>3</th>\n",
       "      <th>4</th>\n",
       "    </tr>\n",
       "  </thead>\n",
       "  <tbody>\n",
       "    <tr>\n",
       "      <th>count</th>\n",
       "      <td>334.000000</td>\n",
       "      <td>334.000000</td>\n",
       "      <td>334.000000</td>\n",
       "      <td>334.000000</td>\n",
       "      <td>334.000000</td>\n",
       "    </tr>\n",
       "    <tr>\n",
       "      <th>mean</th>\n",
       "      <td>0.468831</td>\n",
       "      <td>0.511712</td>\n",
       "      <td>0.534556</td>\n",
       "      <td>0.499150</td>\n",
       "      <td>0.497113</td>\n",
       "    </tr>\n",
       "    <tr>\n",
       "      <th>std</th>\n",
       "      <td>0.296283</td>\n",
       "      <td>0.294659</td>\n",
       "      <td>0.298954</td>\n",
       "      <td>0.290195</td>\n",
       "      <td>0.273115</td>\n",
       "    </tr>\n",
       "    <tr>\n",
       "      <th>min</th>\n",
       "      <td>0.002883</td>\n",
       "      <td>0.000656</td>\n",
       "      <td>0.006393</td>\n",
       "      <td>0.004649</td>\n",
       "      <td>0.011093</td>\n",
       "    </tr>\n",
       "    <tr>\n",
       "      <th>25%</th>\n",
       "      <td>0.209168</td>\n",
       "      <td>0.264402</td>\n",
       "      <td>0.277644</td>\n",
       "      <td>0.257406</td>\n",
       "      <td>0.282021</td>\n",
       "    </tr>\n",
       "    <tr>\n",
       "      <th>50%</th>\n",
       "      <td>0.458742</td>\n",
       "      <td>0.516264</td>\n",
       "      <td>0.552180</td>\n",
       "      <td>0.509497</td>\n",
       "      <td>0.496575</td>\n",
       "    </tr>\n",
       "    <tr>\n",
       "      <th>75%</th>\n",
       "      <td>0.742227</td>\n",
       "      <td>0.770072</td>\n",
       "      <td>0.789750</td>\n",
       "      <td>0.728916</td>\n",
       "      <td>0.724204</td>\n",
       "    </tr>\n",
       "    <tr>\n",
       "      <th>max</th>\n",
       "      <td>0.996464</td>\n",
       "      <td>0.999404</td>\n",
       "      <td>0.997226</td>\n",
       "      <td>0.997193</td>\n",
       "      <td>0.985164</td>\n",
       "    </tr>\n",
       "  </tbody>\n",
       "</table>\n",
       "</div>"
      ],
      "text/plain": [
       "                0           1           2           3           4\n",
       "count  334.000000  334.000000  334.000000  334.000000  334.000000\n",
       "mean     0.468831    0.511712    0.534556    0.499150    0.497113\n",
       "std      0.296283    0.294659    0.298954    0.290195    0.273115\n",
       "min      0.002883    0.000656    0.006393    0.004649    0.011093\n",
       "25%      0.209168    0.264402    0.277644    0.257406    0.282021\n",
       "50%      0.458742    0.516264    0.552180    0.509497    0.496575\n",
       "75%      0.742227    0.770072    0.789750    0.728916    0.724204\n",
       "max      0.996464    0.999404    0.997226    0.997193    0.985164"
      ]
     },
     "execution_count": 226,
     "metadata": {},
     "output_type": "execute_result"
    }
   ],
   "source": [
    "newdf.describe()"
   ]
  },
  {
   "cell_type": "code",
   "execution_count": 227,
   "id": "0625132a",
   "metadata": {},
   "outputs": [
    {
     "data": {
      "text/plain": [
       "0    float64\n",
       "1    float64\n",
       "2    float64\n",
       "3    float64\n",
       "4    float64\n",
       "dtype: object"
      ]
     },
     "execution_count": 227,
     "metadata": {},
     "output_type": "execute_result"
    }
   ],
   "source": [
    "newdf.dtypes"
   ]
  },
  {
   "cell_type": "code",
   "execution_count": 228,
   "id": "bd2c1220",
   "metadata": {},
   "outputs": [
    {
     "data": {
      "text/plain": [
       "0     object\n",
       "1    float64\n",
       "2    float64\n",
       "3    float64\n",
       "4    float64\n",
       "dtype: object"
      ]
     },
     "execution_count": 228,
     "metadata": {},
     "output_type": "execute_result"
    }
   ],
   "source": [
    "newdf[0][0] = \"Pravith\"\n",
    "newdf.dtypes"
   ]
  },
  {
   "cell_type": "code",
   "execution_count": 229,
   "id": "ed87ebd3",
   "metadata": {},
   "outputs": [
    {
     "data": {
      "text/html": [
       "<div>\n",
       "<style scoped>\n",
       "    .dataframe tbody tr th:only-of-type {\n",
       "        vertical-align: middle;\n",
       "    }\n",
       "\n",
       "    .dataframe tbody tr th {\n",
       "        vertical-align: top;\n",
       "    }\n",
       "\n",
       "    .dataframe thead th {\n",
       "        text-align: right;\n",
       "    }\n",
       "</style>\n",
       "<table border=\"1\" class=\"dataframe\">\n",
       "  <thead>\n",
       "    <tr style=\"text-align: right;\">\n",
       "      <th></th>\n",
       "      <th>0</th>\n",
       "      <th>1</th>\n",
       "      <th>2</th>\n",
       "      <th>3</th>\n",
       "      <th>4</th>\n",
       "    </tr>\n",
       "  </thead>\n",
       "  <tbody>\n",
       "    <tr>\n",
       "      <th>0</th>\n",
       "      <td>Pravith</td>\n",
       "      <td>0.553429</td>\n",
       "      <td>0.280314</td>\n",
       "      <td>0.536155</td>\n",
       "      <td>0.956668</td>\n",
       "    </tr>\n",
       "    <tr>\n",
       "      <th>1</th>\n",
       "      <td>0.661149</td>\n",
       "      <td>0.364377</td>\n",
       "      <td>0.382680</td>\n",
       "      <td>0.286471</td>\n",
       "      <td>0.293963</td>\n",
       "    </tr>\n",
       "    <tr>\n",
       "      <th>2</th>\n",
       "      <td>0.732445</td>\n",
       "      <td>0.651605</td>\n",
       "      <td>0.221675</td>\n",
       "      <td>0.410623</td>\n",
       "      <td>0.775324</td>\n",
       "    </tr>\n",
       "    <tr>\n",
       "      <th>3</th>\n",
       "      <td>0.075717</td>\n",
       "      <td>0.585709</td>\n",
       "      <td>0.092021</td>\n",
       "      <td>0.532596</td>\n",
       "      <td>0.743838</td>\n",
       "    </tr>\n",
       "    <tr>\n",
       "      <th>4</th>\n",
       "      <td>0.969634</td>\n",
       "      <td>0.056530</td>\n",
       "      <td>0.615939</td>\n",
       "      <td>0.577099</td>\n",
       "      <td>0.953095</td>\n",
       "    </tr>\n",
       "  </tbody>\n",
       "</table>\n",
       "</div>"
      ],
      "text/plain": [
       "          0         1         2         3         4\n",
       "0   Pravith  0.553429  0.280314  0.536155  0.956668\n",
       "1  0.661149  0.364377  0.382680  0.286471  0.293963\n",
       "2  0.732445  0.651605  0.221675  0.410623  0.775324\n",
       "3  0.075717  0.585709  0.092021  0.532596  0.743838\n",
       "4  0.969634  0.056530  0.615939  0.577099  0.953095"
      ]
     },
     "execution_count": 229,
     "metadata": {},
     "output_type": "execute_result"
    }
   ],
   "source": [
    "newdf.head()"
   ]
  },
  {
   "cell_type": "code",
   "execution_count": 230,
   "id": "0feca6d0",
   "metadata": {},
   "outputs": [
    {
     "data": {
      "text/plain": [
       "Int64Index([  0,   1,   2,   3,   4,   5,   6,   7,   8,   9,\n",
       "            ...\n",
       "            324, 325, 326, 327, 328, 329, 330, 331, 332, 333],\n",
       "           dtype='int64', length=334)"
      ]
     },
     "execution_count": 230,
     "metadata": {},
     "output_type": "execute_result"
    }
   ],
   "source": [
    "newdf.index"
   ]
  },
  {
   "cell_type": "code",
   "execution_count": 231,
   "id": "22b39ffa",
   "metadata": {},
   "outputs": [
    {
     "data": {
      "text/plain": [
       "RangeIndex(start=0, stop=5, step=1)"
      ]
     },
     "execution_count": 231,
     "metadata": {},
     "output_type": "execute_result"
    }
   ],
   "source": [
    "newdf.columns"
   ]
  },
  {
   "cell_type": "markdown",
   "id": "cea24ba0",
   "metadata": {},
   "source": [
    "*Converting into a numpy array*"
   ]
  },
  {
   "cell_type": "code",
   "execution_count": 232,
   "id": "e5087a35",
   "metadata": {},
   "outputs": [
    {
     "data": {
      "text/plain": [
       "array([['Pravith', 0.5534286083970463, 0.2803141097517444,\n",
       "        0.5361551258893663, 0.95666845062724],\n",
       "       [0.6611488023042829, 0.36437658896159253, 0.382680226074934,\n",
       "        0.28647134772968297, 0.29396267875353266],\n",
       "       [0.7324447319567492, 0.6516051955069866, 0.22167490928549882,\n",
       "        0.4106227419599363, 0.7753243220881472],\n",
       "       ...,\n",
       "       [0.28874300760222493, 0.8437334155862034, 0.25255386720462325,\n",
       "        0.5642444530488934, 0.9068805257665721],\n",
       "       [0.9934997653402378, 0.6843518628537746, 0.19689065648068027,\n",
       "        0.5148547882464602, 0.6962570376356271],\n",
       "       [0.0605329326715911, 0.7379991769569214, 0.24547407442325497,\n",
       "        0.1927213340665368, 0.5639182808903227]], dtype=object)"
      ]
     },
     "execution_count": 232,
     "metadata": {},
     "output_type": "execute_result"
    }
   ],
   "source": [
    "newdf.to_numpy()"
   ]
  },
  {
   "cell_type": "code",
   "execution_count": 233,
   "id": "e3158a7b",
   "metadata": {},
   "outputs": [],
   "source": [
    "newdf[0][0] = 0.3"
   ]
  },
  {
   "cell_type": "code",
   "execution_count": 234,
   "id": "f38348ea",
   "metadata": {},
   "outputs": [
    {
     "data": {
      "text/html": [
       "<div>\n",
       "<style scoped>\n",
       "    .dataframe tbody tr th:only-of-type {\n",
       "        vertical-align: middle;\n",
       "    }\n",
       "\n",
       "    .dataframe tbody tr th {\n",
       "        vertical-align: top;\n",
       "    }\n",
       "\n",
       "    .dataframe thead th {\n",
       "        text-align: right;\n",
       "    }\n",
       "</style>\n",
       "<table border=\"1\" class=\"dataframe\">\n",
       "  <thead>\n",
       "    <tr style=\"text-align: right;\">\n",
       "      <th></th>\n",
       "      <th>0</th>\n",
       "      <th>1</th>\n",
       "      <th>2</th>\n",
       "      <th>3</th>\n",
       "      <th>4</th>\n",
       "    </tr>\n",
       "  </thead>\n",
       "  <tbody>\n",
       "    <tr>\n",
       "      <th>0</th>\n",
       "      <td>0.3</td>\n",
       "      <td>0.553429</td>\n",
       "      <td>0.280314</td>\n",
       "      <td>0.536155</td>\n",
       "      <td>0.956668</td>\n",
       "    </tr>\n",
       "    <tr>\n",
       "      <th>1</th>\n",
       "      <td>0.661149</td>\n",
       "      <td>0.364377</td>\n",
       "      <td>0.382680</td>\n",
       "      <td>0.286471</td>\n",
       "      <td>0.293963</td>\n",
       "    </tr>\n",
       "    <tr>\n",
       "      <th>2</th>\n",
       "      <td>0.732445</td>\n",
       "      <td>0.651605</td>\n",
       "      <td>0.221675</td>\n",
       "      <td>0.410623</td>\n",
       "      <td>0.775324</td>\n",
       "    </tr>\n",
       "    <tr>\n",
       "      <th>3</th>\n",
       "      <td>0.075717</td>\n",
       "      <td>0.585709</td>\n",
       "      <td>0.092021</td>\n",
       "      <td>0.532596</td>\n",
       "      <td>0.743838</td>\n",
       "    </tr>\n",
       "    <tr>\n",
       "      <th>4</th>\n",
       "      <td>0.969634</td>\n",
       "      <td>0.056530</td>\n",
       "      <td>0.615939</td>\n",
       "      <td>0.577099</td>\n",
       "      <td>0.953095</td>\n",
       "    </tr>\n",
       "  </tbody>\n",
       "</table>\n",
       "</div>"
      ],
      "text/plain": [
       "          0         1         2         3         4\n",
       "0       0.3  0.553429  0.280314  0.536155  0.956668\n",
       "1  0.661149  0.364377  0.382680  0.286471  0.293963\n",
       "2  0.732445  0.651605  0.221675  0.410623  0.775324\n",
       "3  0.075717  0.585709  0.092021  0.532596  0.743838\n",
       "4  0.969634  0.056530  0.615939  0.577099  0.953095"
      ]
     },
     "execution_count": 234,
     "metadata": {},
     "output_type": "execute_result"
    }
   ],
   "source": [
    "newdf.head()"
   ]
  },
  {
   "cell_type": "markdown",
   "id": "fe038b4f",
   "metadata": {},
   "source": [
    "Transpose"
   ]
  },
  {
   "cell_type": "code",
   "execution_count": 235,
   "id": "aa210fa9",
   "metadata": {},
   "outputs": [
    {
     "data": {
      "text/html": [
       "<div>\n",
       "<style scoped>\n",
       "    .dataframe tbody tr th:only-of-type {\n",
       "        vertical-align: middle;\n",
       "    }\n",
       "\n",
       "    .dataframe tbody tr th {\n",
       "        vertical-align: top;\n",
       "    }\n",
       "\n",
       "    .dataframe thead th {\n",
       "        text-align: right;\n",
       "    }\n",
       "</style>\n",
       "<table border=\"1\" class=\"dataframe\">\n",
       "  <thead>\n",
       "    <tr style=\"text-align: right;\">\n",
       "      <th></th>\n",
       "      <th>0</th>\n",
       "      <th>1</th>\n",
       "      <th>2</th>\n",
       "      <th>3</th>\n",
       "      <th>4</th>\n",
       "      <th>5</th>\n",
       "      <th>6</th>\n",
       "      <th>7</th>\n",
       "      <th>8</th>\n",
       "      <th>9</th>\n",
       "      <th>...</th>\n",
       "      <th>324</th>\n",
       "      <th>325</th>\n",
       "      <th>326</th>\n",
       "      <th>327</th>\n",
       "      <th>328</th>\n",
       "      <th>329</th>\n",
       "      <th>330</th>\n",
       "      <th>331</th>\n",
       "      <th>332</th>\n",
       "      <th>333</th>\n",
       "    </tr>\n",
       "  </thead>\n",
       "  <tbody>\n",
       "    <tr>\n",
       "      <th>0</th>\n",
       "      <td>0.3</td>\n",
       "      <td>0.661149</td>\n",
       "      <td>0.732445</td>\n",
       "      <td>0.075717</td>\n",
       "      <td>0.969634</td>\n",
       "      <td>0.795666</td>\n",
       "      <td>0.615064</td>\n",
       "      <td>0.366586</td>\n",
       "      <td>0.08855</td>\n",
       "      <td>0.541291</td>\n",
       "      <td>...</td>\n",
       "      <td>0.552476</td>\n",
       "      <td>0.296006</td>\n",
       "      <td>0.421719</td>\n",
       "      <td>0.692425</td>\n",
       "      <td>0.782307</td>\n",
       "      <td>0.47067</td>\n",
       "      <td>0.592158</td>\n",
       "      <td>0.288743</td>\n",
       "      <td>0.9935</td>\n",
       "      <td>0.060533</td>\n",
       "    </tr>\n",
       "    <tr>\n",
       "      <th>1</th>\n",
       "      <td>0.553429</td>\n",
       "      <td>0.364377</td>\n",
       "      <td>0.651605</td>\n",
       "      <td>0.585709</td>\n",
       "      <td>0.05653</td>\n",
       "      <td>0.15011</td>\n",
       "      <td>0.490363</td>\n",
       "      <td>0.841779</td>\n",
       "      <td>0.15761</td>\n",
       "      <td>0.882984</td>\n",
       "      <td>...</td>\n",
       "      <td>0.075623</td>\n",
       "      <td>0.598987</td>\n",
       "      <td>0.810767</td>\n",
       "      <td>0.702007</td>\n",
       "      <td>0.072432</td>\n",
       "      <td>0.270655</td>\n",
       "      <td>0.062938</td>\n",
       "      <td>0.843733</td>\n",
       "      <td>0.684352</td>\n",
       "      <td>0.737999</td>\n",
       "    </tr>\n",
       "    <tr>\n",
       "      <th>2</th>\n",
       "      <td>0.280314</td>\n",
       "      <td>0.38268</td>\n",
       "      <td>0.221675</td>\n",
       "      <td>0.092021</td>\n",
       "      <td>0.615939</td>\n",
       "      <td>0.300824</td>\n",
       "      <td>0.183623</td>\n",
       "      <td>0.869164</td>\n",
       "      <td>0.841358</td>\n",
       "      <td>0.40754</td>\n",
       "      <td>...</td>\n",
       "      <td>0.938198</td>\n",
       "      <td>0.236616</td>\n",
       "      <td>0.949927</td>\n",
       "      <td>0.826838</td>\n",
       "      <td>0.543886</td>\n",
       "      <td>0.085958</td>\n",
       "      <td>0.127649</td>\n",
       "      <td>0.252554</td>\n",
       "      <td>0.196891</td>\n",
       "      <td>0.245474</td>\n",
       "    </tr>\n",
       "    <tr>\n",
       "      <th>3</th>\n",
       "      <td>0.536155</td>\n",
       "      <td>0.286471</td>\n",
       "      <td>0.410623</td>\n",
       "      <td>0.532596</td>\n",
       "      <td>0.577099</td>\n",
       "      <td>0.025022</td>\n",
       "      <td>0.675744</td>\n",
       "      <td>0.196994</td>\n",
       "      <td>0.561683</td>\n",
       "      <td>0.358874</td>\n",
       "      <td>...</td>\n",
       "      <td>0.470075</td>\n",
       "      <td>0.368165</td>\n",
       "      <td>0.693878</td>\n",
       "      <td>0.126426</td>\n",
       "      <td>0.273725</td>\n",
       "      <td>0.105299</td>\n",
       "      <td>0.304817</td>\n",
       "      <td>0.564244</td>\n",
       "      <td>0.514855</td>\n",
       "      <td>0.192721</td>\n",
       "    </tr>\n",
       "    <tr>\n",
       "      <th>4</th>\n",
       "      <td>0.956668</td>\n",
       "      <td>0.293963</td>\n",
       "      <td>0.775324</td>\n",
       "      <td>0.743838</td>\n",
       "      <td>0.953095</td>\n",
       "      <td>0.07925</td>\n",
       "      <td>0.674815</td>\n",
       "      <td>0.966472</td>\n",
       "      <td>0.45598</td>\n",
       "      <td>0.25279</td>\n",
       "      <td>...</td>\n",
       "      <td>0.776581</td>\n",
       "      <td>0.333305</td>\n",
       "      <td>0.116724</td>\n",
       "      <td>0.865662</td>\n",
       "      <td>0.820446</td>\n",
       "      <td>0.498442</td>\n",
       "      <td>0.579669</td>\n",
       "      <td>0.906881</td>\n",
       "      <td>0.696257</td>\n",
       "      <td>0.563918</td>\n",
       "    </tr>\n",
       "  </tbody>\n",
       "</table>\n",
       "<p>5 rows × 334 columns</p>\n",
       "</div>"
      ],
      "text/plain": [
       "        0         1         2         3         4         5         6    \\\n",
       "0       0.3  0.661149  0.732445  0.075717  0.969634  0.795666  0.615064   \n",
       "1  0.553429  0.364377  0.651605  0.585709   0.05653   0.15011  0.490363   \n",
       "2  0.280314   0.38268  0.221675  0.092021  0.615939  0.300824  0.183623   \n",
       "3  0.536155  0.286471  0.410623  0.532596  0.577099  0.025022  0.675744   \n",
       "4  0.956668  0.293963  0.775324  0.743838  0.953095   0.07925  0.674815   \n",
       "\n",
       "        7         8         9    ...       324       325       326       327  \\\n",
       "0  0.366586   0.08855  0.541291  ...  0.552476  0.296006  0.421719  0.692425   \n",
       "1  0.841779   0.15761  0.882984  ...  0.075623  0.598987  0.810767  0.702007   \n",
       "2  0.869164  0.841358   0.40754  ...  0.938198  0.236616  0.949927  0.826838   \n",
       "3  0.196994  0.561683  0.358874  ...  0.470075  0.368165  0.693878  0.126426   \n",
       "4  0.966472   0.45598   0.25279  ...  0.776581  0.333305  0.116724  0.865662   \n",
       "\n",
       "        328       329       330       331       332       333  \n",
       "0  0.782307   0.47067  0.592158  0.288743    0.9935  0.060533  \n",
       "1  0.072432  0.270655  0.062938  0.843733  0.684352  0.737999  \n",
       "2  0.543886  0.085958  0.127649  0.252554  0.196891  0.245474  \n",
       "3  0.273725  0.105299  0.304817  0.564244  0.514855  0.192721  \n",
       "4  0.820446  0.498442  0.579669  0.906881  0.696257  0.563918  \n",
       "\n",
       "[5 rows x 334 columns]"
      ]
     },
     "execution_count": 235,
     "metadata": {},
     "output_type": "execute_result"
    }
   ],
   "source": [
    "newdf.T"
   ]
  },
  {
   "cell_type": "markdown",
   "id": "353282fe",
   "metadata": {},
   "source": [
    "**Sorting a dataframe**\n",
    "\n",
    "axis=0 means rows\n",
    "\n",
    "axis=1 means columns\n",
    "\n",
    "ascending=True by default\n",
    "\n",
    "ascending=False to get in descending order"
   ]
  },
  {
   "cell_type": "code",
   "execution_count": 236,
   "id": "09282eb2",
   "metadata": {},
   "outputs": [
    {
     "data": {
      "text/html": [
       "<div>\n",
       "<style scoped>\n",
       "    .dataframe tbody tr th:only-of-type {\n",
       "        vertical-align: middle;\n",
       "    }\n",
       "\n",
       "    .dataframe tbody tr th {\n",
       "        vertical-align: top;\n",
       "    }\n",
       "\n",
       "    .dataframe thead th {\n",
       "        text-align: right;\n",
       "    }\n",
       "</style>\n",
       "<table border=\"1\" class=\"dataframe\">\n",
       "  <thead>\n",
       "    <tr style=\"text-align: right;\">\n",
       "      <th></th>\n",
       "      <th>0</th>\n",
       "      <th>1</th>\n",
       "      <th>2</th>\n",
       "      <th>3</th>\n",
       "      <th>4</th>\n",
       "    </tr>\n",
       "  </thead>\n",
       "  <tbody>\n",
       "    <tr>\n",
       "      <th>333</th>\n",
       "      <td>0.060533</td>\n",
       "      <td>0.737999</td>\n",
       "      <td>0.245474</td>\n",
       "      <td>0.192721</td>\n",
       "      <td>0.563918</td>\n",
       "    </tr>\n",
       "    <tr>\n",
       "      <th>332</th>\n",
       "      <td>0.9935</td>\n",
       "      <td>0.684352</td>\n",
       "      <td>0.196891</td>\n",
       "      <td>0.514855</td>\n",
       "      <td>0.696257</td>\n",
       "    </tr>\n",
       "    <tr>\n",
       "      <th>331</th>\n",
       "      <td>0.288743</td>\n",
       "      <td>0.843733</td>\n",
       "      <td>0.252554</td>\n",
       "      <td>0.564244</td>\n",
       "      <td>0.906881</td>\n",
       "    </tr>\n",
       "    <tr>\n",
       "      <th>330</th>\n",
       "      <td>0.592158</td>\n",
       "      <td>0.062938</td>\n",
       "      <td>0.127649</td>\n",
       "      <td>0.304817</td>\n",
       "      <td>0.579669</td>\n",
       "    </tr>\n",
       "    <tr>\n",
       "      <th>329</th>\n",
       "      <td>0.47067</td>\n",
       "      <td>0.270655</td>\n",
       "      <td>0.085958</td>\n",
       "      <td>0.105299</td>\n",
       "      <td>0.498442</td>\n",
       "    </tr>\n",
       "    <tr>\n",
       "      <th>...</th>\n",
       "      <td>...</td>\n",
       "      <td>...</td>\n",
       "      <td>...</td>\n",
       "      <td>...</td>\n",
       "      <td>...</td>\n",
       "    </tr>\n",
       "    <tr>\n",
       "      <th>4</th>\n",
       "      <td>0.969634</td>\n",
       "      <td>0.056530</td>\n",
       "      <td>0.615939</td>\n",
       "      <td>0.577099</td>\n",
       "      <td>0.953095</td>\n",
       "    </tr>\n",
       "    <tr>\n",
       "      <th>3</th>\n",
       "      <td>0.075717</td>\n",
       "      <td>0.585709</td>\n",
       "      <td>0.092021</td>\n",
       "      <td>0.532596</td>\n",
       "      <td>0.743838</td>\n",
       "    </tr>\n",
       "    <tr>\n",
       "      <th>2</th>\n",
       "      <td>0.732445</td>\n",
       "      <td>0.651605</td>\n",
       "      <td>0.221675</td>\n",
       "      <td>0.410623</td>\n",
       "      <td>0.775324</td>\n",
       "    </tr>\n",
       "    <tr>\n",
       "      <th>1</th>\n",
       "      <td>0.661149</td>\n",
       "      <td>0.364377</td>\n",
       "      <td>0.382680</td>\n",
       "      <td>0.286471</td>\n",
       "      <td>0.293963</td>\n",
       "    </tr>\n",
       "    <tr>\n",
       "      <th>0</th>\n",
       "      <td>0.3</td>\n",
       "      <td>0.553429</td>\n",
       "      <td>0.280314</td>\n",
       "      <td>0.536155</td>\n",
       "      <td>0.956668</td>\n",
       "    </tr>\n",
       "  </tbody>\n",
       "</table>\n",
       "<p>334 rows × 5 columns</p>\n",
       "</div>"
      ],
      "text/plain": [
       "            0         1         2         3         4\n",
       "333  0.060533  0.737999  0.245474  0.192721  0.563918\n",
       "332    0.9935  0.684352  0.196891  0.514855  0.696257\n",
       "331  0.288743  0.843733  0.252554  0.564244  0.906881\n",
       "330  0.592158  0.062938  0.127649  0.304817  0.579669\n",
       "329   0.47067  0.270655  0.085958  0.105299  0.498442\n",
       "..        ...       ...       ...       ...       ...\n",
       "4    0.969634  0.056530  0.615939  0.577099  0.953095\n",
       "3    0.075717  0.585709  0.092021  0.532596  0.743838\n",
       "2    0.732445  0.651605  0.221675  0.410623  0.775324\n",
       "1    0.661149  0.364377  0.382680  0.286471  0.293963\n",
       "0         0.3  0.553429  0.280314  0.536155  0.956668\n",
       "\n",
       "[334 rows x 5 columns]"
      ]
     },
     "execution_count": 236,
     "metadata": {},
     "output_type": "execute_result"
    }
   ],
   "source": [
    "newdf.sort_index(axis=0, ascending=False)\n",
    "#only the table gets reversed"
   ]
  },
  {
   "cell_type": "code",
   "execution_count": 237,
   "id": "d3303123",
   "metadata": {},
   "outputs": [
    {
     "data": {
      "text/html": [
       "<div>\n",
       "<style scoped>\n",
       "    .dataframe tbody tr th:only-of-type {\n",
       "        vertical-align: middle;\n",
       "    }\n",
       "\n",
       "    .dataframe tbody tr th {\n",
       "        vertical-align: top;\n",
       "    }\n",
       "\n",
       "    .dataframe thead th {\n",
       "        text-align: right;\n",
       "    }\n",
       "</style>\n",
       "<table border=\"1\" class=\"dataframe\">\n",
       "  <thead>\n",
       "    <tr style=\"text-align: right;\">\n",
       "      <th></th>\n",
       "      <th>0</th>\n",
       "      <th>1</th>\n",
       "      <th>2</th>\n",
       "      <th>3</th>\n",
       "      <th>4</th>\n",
       "    </tr>\n",
       "  </thead>\n",
       "  <tbody>\n",
       "    <tr>\n",
       "      <th>0</th>\n",
       "      <td>0.3</td>\n",
       "      <td>0.553429</td>\n",
       "      <td>0.280314</td>\n",
       "      <td>0.536155</td>\n",
       "      <td>0.956668</td>\n",
       "    </tr>\n",
       "    <tr>\n",
       "      <th>1</th>\n",
       "      <td>0.661149</td>\n",
       "      <td>0.364377</td>\n",
       "      <td>0.382680</td>\n",
       "      <td>0.286471</td>\n",
       "      <td>0.293963</td>\n",
       "    </tr>\n",
       "    <tr>\n",
       "      <th>2</th>\n",
       "      <td>0.732445</td>\n",
       "      <td>0.651605</td>\n",
       "      <td>0.221675</td>\n",
       "      <td>0.410623</td>\n",
       "      <td>0.775324</td>\n",
       "    </tr>\n",
       "    <tr>\n",
       "      <th>3</th>\n",
       "      <td>0.075717</td>\n",
       "      <td>0.585709</td>\n",
       "      <td>0.092021</td>\n",
       "      <td>0.532596</td>\n",
       "      <td>0.743838</td>\n",
       "    </tr>\n",
       "    <tr>\n",
       "      <th>4</th>\n",
       "      <td>0.969634</td>\n",
       "      <td>0.056530</td>\n",
       "      <td>0.615939</td>\n",
       "      <td>0.577099</td>\n",
       "      <td>0.953095</td>\n",
       "    </tr>\n",
       "  </tbody>\n",
       "</table>\n",
       "</div>"
      ],
      "text/plain": [
       "          0         1         2         3         4\n",
       "0       0.3  0.553429  0.280314  0.536155  0.956668\n",
       "1  0.661149  0.364377  0.382680  0.286471  0.293963\n",
       "2  0.732445  0.651605  0.221675  0.410623  0.775324\n",
       "3  0.075717  0.585709  0.092021  0.532596  0.743838\n",
       "4  0.969634  0.056530  0.615939  0.577099  0.953095"
      ]
     },
     "execution_count": 237,
     "metadata": {},
     "output_type": "execute_result"
    }
   ],
   "source": [
    "newdf.head()"
   ]
  },
  {
   "cell_type": "markdown",
   "id": "499b3426",
   "metadata": {},
   "source": [
    "DataFrame is a combination of series"
   ]
  },
  {
   "cell_type": "code",
   "execution_count": 238,
   "id": "5f24b213",
   "metadata": {},
   "outputs": [
    {
     "data": {
      "text/plain": [
       "pandas.core.series.Series"
      ]
     },
     "execution_count": 238,
     "metadata": {},
     "output_type": "execute_result"
    }
   ],
   "source": [
    "type(newdf[0])"
   ]
  },
  {
   "cell_type": "markdown",
   "id": "b1ae94ed",
   "metadata": {},
   "source": [
    "*If you create a new dataframe and equate it with the existing dataframe, they don't get really copied but instead, both point to the same memory location. They both are just views (DBMS)*"
   ]
  },
  {
   "cell_type": "code",
   "execution_count": 239,
   "id": "74dc9be5",
   "metadata": {},
   "outputs": [],
   "source": [
    "newdf2 = newdf\n",
    "newdf2[0][0]= 9783"
   ]
  },
  {
   "cell_type": "code",
   "execution_count": 240,
   "id": "7616cd8c",
   "metadata": {},
   "outputs": [
    {
     "data": {
      "text/html": [
       "<div>\n",
       "<style scoped>\n",
       "    .dataframe tbody tr th:only-of-type {\n",
       "        vertical-align: middle;\n",
       "    }\n",
       "\n",
       "    .dataframe tbody tr th {\n",
       "        vertical-align: top;\n",
       "    }\n",
       "\n",
       "    .dataframe thead th {\n",
       "        text-align: right;\n",
       "    }\n",
       "</style>\n",
       "<table border=\"1\" class=\"dataframe\">\n",
       "  <thead>\n",
       "    <tr style=\"text-align: right;\">\n",
       "      <th></th>\n",
       "      <th>0</th>\n",
       "      <th>1</th>\n",
       "      <th>2</th>\n",
       "      <th>3</th>\n",
       "      <th>4</th>\n",
       "    </tr>\n",
       "  </thead>\n",
       "  <tbody>\n",
       "    <tr>\n",
       "      <th>0</th>\n",
       "      <td>9783</td>\n",
       "      <td>0.553429</td>\n",
       "      <td>0.280314</td>\n",
       "      <td>0.536155</td>\n",
       "      <td>0.956668</td>\n",
       "    </tr>\n",
       "    <tr>\n",
       "      <th>1</th>\n",
       "      <td>0.661149</td>\n",
       "      <td>0.364377</td>\n",
       "      <td>0.382680</td>\n",
       "      <td>0.286471</td>\n",
       "      <td>0.293963</td>\n",
       "    </tr>\n",
       "    <tr>\n",
       "      <th>2</th>\n",
       "      <td>0.732445</td>\n",
       "      <td>0.651605</td>\n",
       "      <td>0.221675</td>\n",
       "      <td>0.410623</td>\n",
       "      <td>0.775324</td>\n",
       "    </tr>\n",
       "    <tr>\n",
       "      <th>3</th>\n",
       "      <td>0.075717</td>\n",
       "      <td>0.585709</td>\n",
       "      <td>0.092021</td>\n",
       "      <td>0.532596</td>\n",
       "      <td>0.743838</td>\n",
       "    </tr>\n",
       "    <tr>\n",
       "      <th>4</th>\n",
       "      <td>0.969634</td>\n",
       "      <td>0.056530</td>\n",
       "      <td>0.615939</td>\n",
       "      <td>0.577099</td>\n",
       "      <td>0.953095</td>\n",
       "    </tr>\n",
       "    <tr>\n",
       "      <th>...</th>\n",
       "      <td>...</td>\n",
       "      <td>...</td>\n",
       "      <td>...</td>\n",
       "      <td>...</td>\n",
       "      <td>...</td>\n",
       "    </tr>\n",
       "    <tr>\n",
       "      <th>329</th>\n",
       "      <td>0.47067</td>\n",
       "      <td>0.270655</td>\n",
       "      <td>0.085958</td>\n",
       "      <td>0.105299</td>\n",
       "      <td>0.498442</td>\n",
       "    </tr>\n",
       "    <tr>\n",
       "      <th>330</th>\n",
       "      <td>0.592158</td>\n",
       "      <td>0.062938</td>\n",
       "      <td>0.127649</td>\n",
       "      <td>0.304817</td>\n",
       "      <td>0.579669</td>\n",
       "    </tr>\n",
       "    <tr>\n",
       "      <th>331</th>\n",
       "      <td>0.288743</td>\n",
       "      <td>0.843733</td>\n",
       "      <td>0.252554</td>\n",
       "      <td>0.564244</td>\n",
       "      <td>0.906881</td>\n",
       "    </tr>\n",
       "    <tr>\n",
       "      <th>332</th>\n",
       "      <td>0.9935</td>\n",
       "      <td>0.684352</td>\n",
       "      <td>0.196891</td>\n",
       "      <td>0.514855</td>\n",
       "      <td>0.696257</td>\n",
       "    </tr>\n",
       "    <tr>\n",
       "      <th>333</th>\n",
       "      <td>0.060533</td>\n",
       "      <td>0.737999</td>\n",
       "      <td>0.245474</td>\n",
       "      <td>0.192721</td>\n",
       "      <td>0.563918</td>\n",
       "    </tr>\n",
       "  </tbody>\n",
       "</table>\n",
       "<p>334 rows × 5 columns</p>\n",
       "</div>"
      ],
      "text/plain": [
       "            0         1         2         3         4\n",
       "0        9783  0.553429  0.280314  0.536155  0.956668\n",
       "1    0.661149  0.364377  0.382680  0.286471  0.293963\n",
       "2    0.732445  0.651605  0.221675  0.410623  0.775324\n",
       "3    0.075717  0.585709  0.092021  0.532596  0.743838\n",
       "4    0.969634  0.056530  0.615939  0.577099  0.953095\n",
       "..        ...       ...       ...       ...       ...\n",
       "329   0.47067  0.270655  0.085958  0.105299  0.498442\n",
       "330  0.592158  0.062938  0.127649  0.304817  0.579669\n",
       "331  0.288743  0.843733  0.252554  0.564244  0.906881\n",
       "332    0.9935  0.684352  0.196891  0.514855  0.696257\n",
       "333  0.060533  0.737999  0.245474  0.192721  0.563918\n",
       "\n",
       "[334 rows x 5 columns]"
      ]
     },
     "execution_count": 240,
     "metadata": {},
     "output_type": "execute_result"
    }
   ],
   "source": [
    "newdf\n",
    "# now we can observe that newdf also got changed"
   ]
  },
  {
   "cell_type": "markdown",
   "id": "eff3c876",
   "metadata": {},
   "source": [
    "so, we need to use another syntax for copying"
   ]
  },
  {
   "cell_type": "code",
   "execution_count": 241,
   "id": "e8230b96",
   "metadata": {},
   "outputs": [
    {
     "name": "stderr",
     "output_type": "stream",
     "text": [
      "/var/folders/j_/wy00vxfs2rx9l9_qrtb0fny00000gn/T/ipykernel_23305/2450621795.py:2: SettingWithCopyWarning: \n",
      "A value is trying to be set on a copy of a slice from a DataFrame\n",
      "\n",
      "See the caveats in the documentation: https://pandas.pydata.org/pandas-docs/stable/user_guide/indexing.html#returning-a-view-versus-a-copy\n",
      "  newdf2[0][0] = 34\n"
     ]
    },
    {
     "data": {
      "text/html": [
       "<div>\n",
       "<style scoped>\n",
       "    .dataframe tbody tr th:only-of-type {\n",
       "        vertical-align: middle;\n",
       "    }\n",
       "\n",
       "    .dataframe tbody tr th {\n",
       "        vertical-align: top;\n",
       "    }\n",
       "\n",
       "    .dataframe thead th {\n",
       "        text-align: right;\n",
       "    }\n",
       "</style>\n",
       "<table border=\"1\" class=\"dataframe\">\n",
       "  <thead>\n",
       "    <tr style=\"text-align: right;\">\n",
       "      <th></th>\n",
       "      <th>0</th>\n",
       "      <th>1</th>\n",
       "      <th>2</th>\n",
       "      <th>3</th>\n",
       "      <th>4</th>\n",
       "    </tr>\n",
       "  </thead>\n",
       "  <tbody>\n",
       "    <tr>\n",
       "      <th>0</th>\n",
       "      <td>9783</td>\n",
       "      <td>0.553429</td>\n",
       "      <td>0.280314</td>\n",
       "      <td>0.536155</td>\n",
       "      <td>0.956668</td>\n",
       "    </tr>\n",
       "    <tr>\n",
       "      <th>1</th>\n",
       "      <td>0.661149</td>\n",
       "      <td>0.364377</td>\n",
       "      <td>0.382680</td>\n",
       "      <td>0.286471</td>\n",
       "      <td>0.293963</td>\n",
       "    </tr>\n",
       "    <tr>\n",
       "      <th>2</th>\n",
       "      <td>0.732445</td>\n",
       "      <td>0.651605</td>\n",
       "      <td>0.221675</td>\n",
       "      <td>0.410623</td>\n",
       "      <td>0.775324</td>\n",
       "    </tr>\n",
       "    <tr>\n",
       "      <th>3</th>\n",
       "      <td>0.075717</td>\n",
       "      <td>0.585709</td>\n",
       "      <td>0.092021</td>\n",
       "      <td>0.532596</td>\n",
       "      <td>0.743838</td>\n",
       "    </tr>\n",
       "    <tr>\n",
       "      <th>4</th>\n",
       "      <td>0.969634</td>\n",
       "      <td>0.056530</td>\n",
       "      <td>0.615939</td>\n",
       "      <td>0.577099</td>\n",
       "      <td>0.953095</td>\n",
       "    </tr>\n",
       "    <tr>\n",
       "      <th>...</th>\n",
       "      <td>...</td>\n",
       "      <td>...</td>\n",
       "      <td>...</td>\n",
       "      <td>...</td>\n",
       "      <td>...</td>\n",
       "    </tr>\n",
       "    <tr>\n",
       "      <th>329</th>\n",
       "      <td>0.47067</td>\n",
       "      <td>0.270655</td>\n",
       "      <td>0.085958</td>\n",
       "      <td>0.105299</td>\n",
       "      <td>0.498442</td>\n",
       "    </tr>\n",
       "    <tr>\n",
       "      <th>330</th>\n",
       "      <td>0.592158</td>\n",
       "      <td>0.062938</td>\n",
       "      <td>0.127649</td>\n",
       "      <td>0.304817</td>\n",
       "      <td>0.579669</td>\n",
       "    </tr>\n",
       "    <tr>\n",
       "      <th>331</th>\n",
       "      <td>0.288743</td>\n",
       "      <td>0.843733</td>\n",
       "      <td>0.252554</td>\n",
       "      <td>0.564244</td>\n",
       "      <td>0.906881</td>\n",
       "    </tr>\n",
       "    <tr>\n",
       "      <th>332</th>\n",
       "      <td>0.9935</td>\n",
       "      <td>0.684352</td>\n",
       "      <td>0.196891</td>\n",
       "      <td>0.514855</td>\n",
       "      <td>0.696257</td>\n",
       "    </tr>\n",
       "    <tr>\n",
       "      <th>333</th>\n",
       "      <td>0.060533</td>\n",
       "      <td>0.737999</td>\n",
       "      <td>0.245474</td>\n",
       "      <td>0.192721</td>\n",
       "      <td>0.563918</td>\n",
       "    </tr>\n",
       "  </tbody>\n",
       "</table>\n",
       "<p>334 rows × 5 columns</p>\n",
       "</div>"
      ],
      "text/plain": [
       "            0         1         2         3         4\n",
       "0        9783  0.553429  0.280314  0.536155  0.956668\n",
       "1    0.661149  0.364377  0.382680  0.286471  0.293963\n",
       "2    0.732445  0.651605  0.221675  0.410623  0.775324\n",
       "3    0.075717  0.585709  0.092021  0.532596  0.743838\n",
       "4    0.969634  0.056530  0.615939  0.577099  0.953095\n",
       "..        ...       ...       ...       ...       ...\n",
       "329   0.47067  0.270655  0.085958  0.105299  0.498442\n",
       "330  0.592158  0.062938  0.127649  0.304817  0.579669\n",
       "331  0.288743  0.843733  0.252554  0.564244  0.906881\n",
       "332    0.9935  0.684352  0.196891  0.514855  0.696257\n",
       "333  0.060533  0.737999  0.245474  0.192721  0.563918\n",
       "\n",
       "[334 rows x 5 columns]"
      ]
     },
     "execution_count": 241,
     "metadata": {},
     "output_type": "execute_result"
    }
   ],
   "source": [
    "newdf2 = newdf.copy()\n",
    "newdf2[0][0] = 34\n",
    "newdf\n",
    "# we can now see the original dataframe not getting changed"
   ]
  },
  {
   "cell_type": "markdown",
   "id": "749f77b3",
   "metadata": {},
   "source": [
    "# loc"
   ]
  },
  {
   "cell_type": "markdown",
   "id": "f2ab0a85",
   "metadata": {},
   "source": [
    "**Removing the warnings while updating the values**"
   ]
  },
  {
   "cell_type": "code",
   "execution_count": 242,
   "id": "6ae64f41",
   "metadata": {},
   "outputs": [
    {
     "data": {
      "text/html": [
       "<div>\n",
       "<style scoped>\n",
       "    .dataframe tbody tr th:only-of-type {\n",
       "        vertical-align: middle;\n",
       "    }\n",
       "\n",
       "    .dataframe tbody tr th {\n",
       "        vertical-align: top;\n",
       "    }\n",
       "\n",
       "    .dataframe thead th {\n",
       "        text-align: right;\n",
       "    }\n",
       "</style>\n",
       "<table border=\"1\" class=\"dataframe\">\n",
       "  <thead>\n",
       "    <tr style=\"text-align: right;\">\n",
       "      <th></th>\n",
       "      <th>0</th>\n",
       "      <th>1</th>\n",
       "      <th>2</th>\n",
       "      <th>3</th>\n",
       "      <th>4</th>\n",
       "    </tr>\n",
       "  </thead>\n",
       "  <tbody>\n",
       "    <tr>\n",
       "      <th>0</th>\n",
       "      <td>64</td>\n",
       "      <td>0.553429</td>\n",
       "      <td>0.280314</td>\n",
       "      <td>0.536155</td>\n",
       "      <td>0.956668</td>\n",
       "    </tr>\n",
       "    <tr>\n",
       "      <th>1</th>\n",
       "      <td>0.661149</td>\n",
       "      <td>0.364377</td>\n",
       "      <td>0.382680</td>\n",
       "      <td>0.286471</td>\n",
       "      <td>0.293963</td>\n",
       "    </tr>\n",
       "  </tbody>\n",
       "</table>\n",
       "</div>"
      ],
      "text/plain": [
       "          0         1         2         3         4\n",
       "0        64  0.553429  0.280314  0.536155  0.956668\n",
       "1  0.661149  0.364377  0.382680  0.286471  0.293963"
      ]
     },
     "execution_count": 242,
     "metadata": {},
     "output_type": "execute_result"
    }
   ],
   "source": [
    "newdf.loc[0,0] = 64\n",
    "newdf.head(2)"
   ]
  },
  {
   "cell_type": "markdown",
   "id": "634c74a4",
   "metadata": {},
   "source": [
    "Renaming the columns"
   ]
  },
  {
   "cell_type": "code",
   "execution_count": 243,
   "id": "64ed30a1",
   "metadata": {},
   "outputs": [],
   "source": [
    "newdf.columns = list(\"ABCDE\")"
   ]
  },
  {
   "cell_type": "code",
   "execution_count": 244,
   "id": "a3271605",
   "metadata": {},
   "outputs": [
    {
     "data": {
      "text/html": [
       "<div>\n",
       "<style scoped>\n",
       "    .dataframe tbody tr th:only-of-type {\n",
       "        vertical-align: middle;\n",
       "    }\n",
       "\n",
       "    .dataframe tbody tr th {\n",
       "        vertical-align: top;\n",
       "    }\n",
       "\n",
       "    .dataframe thead th {\n",
       "        text-align: right;\n",
       "    }\n",
       "</style>\n",
       "<table border=\"1\" class=\"dataframe\">\n",
       "  <thead>\n",
       "    <tr style=\"text-align: right;\">\n",
       "      <th></th>\n",
       "      <th>A</th>\n",
       "      <th>B</th>\n",
       "      <th>C</th>\n",
       "      <th>D</th>\n",
       "      <th>E</th>\n",
       "    </tr>\n",
       "  </thead>\n",
       "  <tbody>\n",
       "    <tr>\n",
       "      <th>0</th>\n",
       "      <td>64</td>\n",
       "      <td>0.553429</td>\n",
       "      <td>0.280314</td>\n",
       "      <td>0.536155</td>\n",
       "      <td>0.956668</td>\n",
       "    </tr>\n",
       "    <tr>\n",
       "      <th>1</th>\n",
       "      <td>0.661149</td>\n",
       "      <td>0.364377</td>\n",
       "      <td>0.382680</td>\n",
       "      <td>0.286471</td>\n",
       "      <td>0.293963</td>\n",
       "    </tr>\n",
       "  </tbody>\n",
       "</table>\n",
       "</div>"
      ],
      "text/plain": [
       "          A         B         C         D         E\n",
       "0        64  0.553429  0.280314  0.536155  0.956668\n",
       "1  0.661149  0.364377  0.382680  0.286471  0.293963"
      ]
     },
     "execution_count": 244,
     "metadata": {},
     "output_type": "execute_result"
    }
   ],
   "source": [
    "newdf.head(2)"
   ]
  },
  {
   "cell_type": "markdown",
   "id": "3f08a92c",
   "metadata": {},
   "source": [
    "as the columns are changed now, we can't locate the cells by [0,0] etc"
   ]
  },
  {
   "cell_type": "code",
   "execution_count": 245,
   "id": "7710f0ba",
   "metadata": {},
   "outputs": [],
   "source": [
    "newdf.loc[0,0] = 456\n",
    "# doesn't give error but new column gets created"
   ]
  },
  {
   "cell_type": "code",
   "execution_count": 246,
   "id": "3568be54",
   "metadata": {},
   "outputs": [
    {
     "data": {
      "text/html": [
       "<div>\n",
       "<style scoped>\n",
       "    .dataframe tbody tr th:only-of-type {\n",
       "        vertical-align: middle;\n",
       "    }\n",
       "\n",
       "    .dataframe tbody tr th {\n",
       "        vertical-align: top;\n",
       "    }\n",
       "\n",
       "    .dataframe thead th {\n",
       "        text-align: right;\n",
       "    }\n",
       "</style>\n",
       "<table border=\"1\" class=\"dataframe\">\n",
       "  <thead>\n",
       "    <tr style=\"text-align: right;\">\n",
       "      <th></th>\n",
       "      <th>A</th>\n",
       "      <th>B</th>\n",
       "      <th>C</th>\n",
       "      <th>D</th>\n",
       "      <th>E</th>\n",
       "      <th>0</th>\n",
       "    </tr>\n",
       "  </thead>\n",
       "  <tbody>\n",
       "    <tr>\n",
       "      <th>0</th>\n",
       "      <td>64</td>\n",
       "      <td>0.553429</td>\n",
       "      <td>0.280314</td>\n",
       "      <td>0.536155</td>\n",
       "      <td>0.956668</td>\n",
       "      <td>456.0</td>\n",
       "    </tr>\n",
       "    <tr>\n",
       "      <th>1</th>\n",
       "      <td>0.661149</td>\n",
       "      <td>0.364377</td>\n",
       "      <td>0.382680</td>\n",
       "      <td>0.286471</td>\n",
       "      <td>0.293963</td>\n",
       "      <td>NaN</td>\n",
       "    </tr>\n",
       "    <tr>\n",
       "      <th>2</th>\n",
       "      <td>0.732445</td>\n",
       "      <td>0.651605</td>\n",
       "      <td>0.221675</td>\n",
       "      <td>0.410623</td>\n",
       "      <td>0.775324</td>\n",
       "      <td>NaN</td>\n",
       "    </tr>\n",
       "    <tr>\n",
       "      <th>3</th>\n",
       "      <td>0.075717</td>\n",
       "      <td>0.585709</td>\n",
       "      <td>0.092021</td>\n",
       "      <td>0.532596</td>\n",
       "      <td>0.743838</td>\n",
       "      <td>NaN</td>\n",
       "    </tr>\n",
       "    <tr>\n",
       "      <th>4</th>\n",
       "      <td>0.969634</td>\n",
       "      <td>0.056530</td>\n",
       "      <td>0.615939</td>\n",
       "      <td>0.577099</td>\n",
       "      <td>0.953095</td>\n",
       "      <td>NaN</td>\n",
       "    </tr>\n",
       "    <tr>\n",
       "      <th>...</th>\n",
       "      <td>...</td>\n",
       "      <td>...</td>\n",
       "      <td>...</td>\n",
       "      <td>...</td>\n",
       "      <td>...</td>\n",
       "      <td>...</td>\n",
       "    </tr>\n",
       "    <tr>\n",
       "      <th>329</th>\n",
       "      <td>0.47067</td>\n",
       "      <td>0.270655</td>\n",
       "      <td>0.085958</td>\n",
       "      <td>0.105299</td>\n",
       "      <td>0.498442</td>\n",
       "      <td>NaN</td>\n",
       "    </tr>\n",
       "    <tr>\n",
       "      <th>330</th>\n",
       "      <td>0.592158</td>\n",
       "      <td>0.062938</td>\n",
       "      <td>0.127649</td>\n",
       "      <td>0.304817</td>\n",
       "      <td>0.579669</td>\n",
       "      <td>NaN</td>\n",
       "    </tr>\n",
       "    <tr>\n",
       "      <th>331</th>\n",
       "      <td>0.288743</td>\n",
       "      <td>0.843733</td>\n",
       "      <td>0.252554</td>\n",
       "      <td>0.564244</td>\n",
       "      <td>0.906881</td>\n",
       "      <td>NaN</td>\n",
       "    </tr>\n",
       "    <tr>\n",
       "      <th>332</th>\n",
       "      <td>0.9935</td>\n",
       "      <td>0.684352</td>\n",
       "      <td>0.196891</td>\n",
       "      <td>0.514855</td>\n",
       "      <td>0.696257</td>\n",
       "      <td>NaN</td>\n",
       "    </tr>\n",
       "    <tr>\n",
       "      <th>333</th>\n",
       "      <td>0.060533</td>\n",
       "      <td>0.737999</td>\n",
       "      <td>0.245474</td>\n",
       "      <td>0.192721</td>\n",
       "      <td>0.563918</td>\n",
       "      <td>NaN</td>\n",
       "    </tr>\n",
       "  </tbody>\n",
       "</table>\n",
       "<p>334 rows × 6 columns</p>\n",
       "</div>"
      ],
      "text/plain": [
       "            A         B         C         D         E      0\n",
       "0          64  0.553429  0.280314  0.536155  0.956668  456.0\n",
       "1    0.661149  0.364377  0.382680  0.286471  0.293963    NaN\n",
       "2    0.732445  0.651605  0.221675  0.410623  0.775324    NaN\n",
       "3    0.075717  0.585709  0.092021  0.532596  0.743838    NaN\n",
       "4    0.969634  0.056530  0.615939  0.577099  0.953095    NaN\n",
       "..        ...       ...       ...       ...       ...    ...\n",
       "329   0.47067  0.270655  0.085958  0.105299  0.498442    NaN\n",
       "330  0.592158  0.062938  0.127649  0.304817  0.579669    NaN\n",
       "331  0.288743  0.843733  0.252554  0.564244  0.906881    NaN\n",
       "332    0.9935  0.684352  0.196891  0.514855  0.696257    NaN\n",
       "333  0.060533  0.737999  0.245474  0.192721  0.563918    NaN\n",
       "\n",
       "[334 rows x 6 columns]"
      ]
     },
     "execution_count": 246,
     "metadata": {},
     "output_type": "execute_result"
    }
   ],
   "source": [
    "newdf"
   ]
  },
  {
   "cell_type": "markdown",
   "id": "45910904",
   "metadata": {},
   "source": [
    "we need to mention the column name specifically"
   ]
  },
  {
   "cell_type": "code",
   "execution_count": 247,
   "id": "a5aa42be",
   "metadata": {},
   "outputs": [
    {
     "data": {
      "text/html": [
       "<div>\n",
       "<style scoped>\n",
       "    .dataframe tbody tr th:only-of-type {\n",
       "        vertical-align: middle;\n",
       "    }\n",
       "\n",
       "    .dataframe tbody tr th {\n",
       "        vertical-align: top;\n",
       "    }\n",
       "\n",
       "    .dataframe thead th {\n",
       "        text-align: right;\n",
       "    }\n",
       "</style>\n",
       "<table border=\"1\" class=\"dataframe\">\n",
       "  <thead>\n",
       "    <tr style=\"text-align: right;\">\n",
       "      <th></th>\n",
       "      <th>A</th>\n",
       "      <th>B</th>\n",
       "      <th>C</th>\n",
       "      <th>D</th>\n",
       "      <th>E</th>\n",
       "      <th>0</th>\n",
       "    </tr>\n",
       "  </thead>\n",
       "  <tbody>\n",
       "    <tr>\n",
       "      <th>0</th>\n",
       "      <td>456</td>\n",
       "      <td>0.553429</td>\n",
       "      <td>0.280314</td>\n",
       "      <td>0.536155</td>\n",
       "      <td>0.956668</td>\n",
       "      <td>456.0</td>\n",
       "    </tr>\n",
       "    <tr>\n",
       "      <th>1</th>\n",
       "      <td>0.661149</td>\n",
       "      <td>0.364377</td>\n",
       "      <td>0.382680</td>\n",
       "      <td>0.286471</td>\n",
       "      <td>0.293963</td>\n",
       "      <td>NaN</td>\n",
       "    </tr>\n",
       "    <tr>\n",
       "      <th>2</th>\n",
       "      <td>0.732445</td>\n",
       "      <td>0.651605</td>\n",
       "      <td>0.221675</td>\n",
       "      <td>0.410623</td>\n",
       "      <td>0.775324</td>\n",
       "      <td>NaN</td>\n",
       "    </tr>\n",
       "    <tr>\n",
       "      <th>3</th>\n",
       "      <td>0.075717</td>\n",
       "      <td>0.585709</td>\n",
       "      <td>0.092021</td>\n",
       "      <td>0.532596</td>\n",
       "      <td>0.743838</td>\n",
       "      <td>NaN</td>\n",
       "    </tr>\n",
       "    <tr>\n",
       "      <th>4</th>\n",
       "      <td>0.969634</td>\n",
       "      <td>0.056530</td>\n",
       "      <td>0.615939</td>\n",
       "      <td>0.577099</td>\n",
       "      <td>0.953095</td>\n",
       "      <td>NaN</td>\n",
       "    </tr>\n",
       "    <tr>\n",
       "      <th>...</th>\n",
       "      <td>...</td>\n",
       "      <td>...</td>\n",
       "      <td>...</td>\n",
       "      <td>...</td>\n",
       "      <td>...</td>\n",
       "      <td>...</td>\n",
       "    </tr>\n",
       "    <tr>\n",
       "      <th>329</th>\n",
       "      <td>0.47067</td>\n",
       "      <td>0.270655</td>\n",
       "      <td>0.085958</td>\n",
       "      <td>0.105299</td>\n",
       "      <td>0.498442</td>\n",
       "      <td>NaN</td>\n",
       "    </tr>\n",
       "    <tr>\n",
       "      <th>330</th>\n",
       "      <td>0.592158</td>\n",
       "      <td>0.062938</td>\n",
       "      <td>0.127649</td>\n",
       "      <td>0.304817</td>\n",
       "      <td>0.579669</td>\n",
       "      <td>NaN</td>\n",
       "    </tr>\n",
       "    <tr>\n",
       "      <th>331</th>\n",
       "      <td>0.288743</td>\n",
       "      <td>0.843733</td>\n",
       "      <td>0.252554</td>\n",
       "      <td>0.564244</td>\n",
       "      <td>0.906881</td>\n",
       "      <td>NaN</td>\n",
       "    </tr>\n",
       "    <tr>\n",
       "      <th>332</th>\n",
       "      <td>0.9935</td>\n",
       "      <td>0.684352</td>\n",
       "      <td>0.196891</td>\n",
       "      <td>0.514855</td>\n",
       "      <td>0.696257</td>\n",
       "      <td>NaN</td>\n",
       "    </tr>\n",
       "    <tr>\n",
       "      <th>333</th>\n",
       "      <td>0.060533</td>\n",
       "      <td>0.737999</td>\n",
       "      <td>0.245474</td>\n",
       "      <td>0.192721</td>\n",
       "      <td>0.563918</td>\n",
       "      <td>NaN</td>\n",
       "    </tr>\n",
       "  </tbody>\n",
       "</table>\n",
       "<p>334 rows × 6 columns</p>\n",
       "</div>"
      ],
      "text/plain": [
       "            A         B         C         D         E      0\n",
       "0         456  0.553429  0.280314  0.536155  0.956668  456.0\n",
       "1    0.661149  0.364377  0.382680  0.286471  0.293963    NaN\n",
       "2    0.732445  0.651605  0.221675  0.410623  0.775324    NaN\n",
       "3    0.075717  0.585709  0.092021  0.532596  0.743838    NaN\n",
       "4    0.969634  0.056530  0.615939  0.577099  0.953095    NaN\n",
       "..        ...       ...       ...       ...       ...    ...\n",
       "329   0.47067  0.270655  0.085958  0.105299  0.498442    NaN\n",
       "330  0.592158  0.062938  0.127649  0.304817  0.579669    NaN\n",
       "331  0.288743  0.843733  0.252554  0.564244  0.906881    NaN\n",
       "332    0.9935  0.684352  0.196891  0.514855  0.696257    NaN\n",
       "333  0.060533  0.737999  0.245474  0.192721  0.563918    NaN\n",
       "\n",
       "[334 rows x 6 columns]"
      ]
     },
     "execution_count": 247,
     "metadata": {},
     "output_type": "execute_result"
    }
   ],
   "source": [
    "newdf.loc[0, 'A'] = 456\n",
    "newdf"
   ]
  },
  {
   "cell_type": "markdown",
   "id": "6b559c34",
   "metadata": {},
   "source": [
    "dropping down a column"
   ]
  },
  {
   "cell_type": "code",
   "execution_count": 248,
   "id": "100b5af3",
   "metadata": {},
   "outputs": [],
   "source": [
    "newdf = newdf.drop(0, axis=1)\n",
    "# axis = 1 means columns"
   ]
  },
  {
   "cell_type": "code",
   "execution_count": 249,
   "id": "4083fa5e",
   "metadata": {},
   "outputs": [
    {
     "data": {
      "text/html": [
       "<div>\n",
       "<style scoped>\n",
       "    .dataframe tbody tr th:only-of-type {\n",
       "        vertical-align: middle;\n",
       "    }\n",
       "\n",
       "    .dataframe tbody tr th {\n",
       "        vertical-align: top;\n",
       "    }\n",
       "\n",
       "    .dataframe thead th {\n",
       "        text-align: right;\n",
       "    }\n",
       "</style>\n",
       "<table border=\"1\" class=\"dataframe\">\n",
       "  <thead>\n",
       "    <tr style=\"text-align: right;\">\n",
       "      <th></th>\n",
       "      <th>A</th>\n",
       "      <th>B</th>\n",
       "      <th>C</th>\n",
       "      <th>D</th>\n",
       "      <th>E</th>\n",
       "    </tr>\n",
       "  </thead>\n",
       "  <tbody>\n",
       "    <tr>\n",
       "      <th>0</th>\n",
       "      <td>456</td>\n",
       "      <td>0.553429</td>\n",
       "      <td>0.280314</td>\n",
       "      <td>0.536155</td>\n",
       "      <td>0.956668</td>\n",
       "    </tr>\n",
       "    <tr>\n",
       "      <th>1</th>\n",
       "      <td>0.661149</td>\n",
       "      <td>0.364377</td>\n",
       "      <td>0.382680</td>\n",
       "      <td>0.286471</td>\n",
       "      <td>0.293963</td>\n",
       "    </tr>\n",
       "    <tr>\n",
       "      <th>2</th>\n",
       "      <td>0.732445</td>\n",
       "      <td>0.651605</td>\n",
       "      <td>0.221675</td>\n",
       "      <td>0.410623</td>\n",
       "      <td>0.775324</td>\n",
       "    </tr>\n",
       "    <tr>\n",
       "      <th>3</th>\n",
       "      <td>0.075717</td>\n",
       "      <td>0.585709</td>\n",
       "      <td>0.092021</td>\n",
       "      <td>0.532596</td>\n",
       "      <td>0.743838</td>\n",
       "    </tr>\n",
       "    <tr>\n",
       "      <th>4</th>\n",
       "      <td>0.969634</td>\n",
       "      <td>0.056530</td>\n",
       "      <td>0.615939</td>\n",
       "      <td>0.577099</td>\n",
       "      <td>0.953095</td>\n",
       "    </tr>\n",
       "  </tbody>\n",
       "</table>\n",
       "</div>"
      ],
      "text/plain": [
       "          A         B         C         D         E\n",
       "0       456  0.553429  0.280314  0.536155  0.956668\n",
       "1  0.661149  0.364377  0.382680  0.286471  0.293963\n",
       "2  0.732445  0.651605  0.221675  0.410623  0.775324\n",
       "3  0.075717  0.585709  0.092021  0.532596  0.743838\n",
       "4  0.969634  0.056530  0.615939  0.577099  0.953095"
      ]
     },
     "execution_count": 249,
     "metadata": {},
     "output_type": "execute_result"
    }
   ],
   "source": [
    "newdf.head()"
   ]
  },
  {
   "cell_type": "markdown",
   "id": "84522bd5",
   "metadata": {},
   "source": [
    "wanted to get only specific set of columns and rows"
   ]
  },
  {
   "cell_type": "code",
   "execution_count": 250,
   "id": "d8bfc458",
   "metadata": {},
   "outputs": [
    {
     "data": {
      "text/html": [
       "<div>\n",
       "<style scoped>\n",
       "    .dataframe tbody tr th:only-of-type {\n",
       "        vertical-align: middle;\n",
       "    }\n",
       "\n",
       "    .dataframe tbody tr th {\n",
       "        vertical-align: top;\n",
       "    }\n",
       "\n",
       "    .dataframe thead th {\n",
       "        text-align: right;\n",
       "    }\n",
       "</style>\n",
       "<table border=\"1\" class=\"dataframe\">\n",
       "  <thead>\n",
       "    <tr style=\"text-align: right;\">\n",
       "      <th></th>\n",
       "      <th>C</th>\n",
       "      <th>D</th>\n",
       "    </tr>\n",
       "  </thead>\n",
       "  <tbody>\n",
       "    <tr>\n",
       "      <th>1</th>\n",
       "      <td>0.382680</td>\n",
       "      <td>0.286471</td>\n",
       "    </tr>\n",
       "    <tr>\n",
       "      <th>2</th>\n",
       "      <td>0.221675</td>\n",
       "      <td>0.410623</td>\n",
       "    </tr>\n",
       "  </tbody>\n",
       "</table>\n",
       "</div>"
      ],
      "text/plain": [
       "          C         D\n",
       "1  0.382680  0.286471\n",
       "2  0.221675  0.410623"
      ]
     },
     "execution_count": 250,
     "metadata": {},
     "output_type": "execute_result"
    }
   ],
   "source": [
    "newdf.loc[[1,2], ['C', 'D']]\n",
    "#they don't actually get changed"
   ]
  },
  {
   "cell_type": "code",
   "execution_count": 251,
   "id": "dc9869f2",
   "metadata": {},
   "outputs": [
    {
     "data": {
      "text/html": [
       "<div>\n",
       "<style scoped>\n",
       "    .dataframe tbody tr th:only-of-type {\n",
       "        vertical-align: middle;\n",
       "    }\n",
       "\n",
       "    .dataframe tbody tr th {\n",
       "        vertical-align: top;\n",
       "    }\n",
       "\n",
       "    .dataframe thead th {\n",
       "        text-align: right;\n",
       "    }\n",
       "</style>\n",
       "<table border=\"1\" class=\"dataframe\">\n",
       "  <thead>\n",
       "    <tr style=\"text-align: right;\">\n",
       "      <th></th>\n",
       "      <th>A</th>\n",
       "      <th>B</th>\n",
       "      <th>C</th>\n",
       "      <th>D</th>\n",
       "      <th>E</th>\n",
       "    </tr>\n",
       "  </thead>\n",
       "  <tbody>\n",
       "    <tr>\n",
       "      <th>0</th>\n",
       "      <td>456</td>\n",
       "      <td>0.553429</td>\n",
       "      <td>0.280314</td>\n",
       "      <td>0.536155</td>\n",
       "      <td>0.956668</td>\n",
       "    </tr>\n",
       "    <tr>\n",
       "      <th>1</th>\n",
       "      <td>0.661149</td>\n",
       "      <td>0.364377</td>\n",
       "      <td>0.382680</td>\n",
       "      <td>0.286471</td>\n",
       "      <td>0.293963</td>\n",
       "    </tr>\n",
       "    <tr>\n",
       "      <th>2</th>\n",
       "      <td>0.732445</td>\n",
       "      <td>0.651605</td>\n",
       "      <td>0.221675</td>\n",
       "      <td>0.410623</td>\n",
       "      <td>0.775324</td>\n",
       "    </tr>\n",
       "    <tr>\n",
       "      <th>3</th>\n",
       "      <td>0.075717</td>\n",
       "      <td>0.585709</td>\n",
       "      <td>0.092021</td>\n",
       "      <td>0.532596</td>\n",
       "      <td>0.743838</td>\n",
       "    </tr>\n",
       "    <tr>\n",
       "      <th>4</th>\n",
       "      <td>0.969634</td>\n",
       "      <td>0.056530</td>\n",
       "      <td>0.615939</td>\n",
       "      <td>0.577099</td>\n",
       "      <td>0.953095</td>\n",
       "    </tr>\n",
       "  </tbody>\n",
       "</table>\n",
       "</div>"
      ],
      "text/plain": [
       "          A         B         C         D         E\n",
       "0       456  0.553429  0.280314  0.536155  0.956668\n",
       "1  0.661149  0.364377  0.382680  0.286471  0.293963\n",
       "2  0.732445  0.651605  0.221675  0.410623  0.775324\n",
       "3  0.075717  0.585709  0.092021  0.532596  0.743838\n",
       "4  0.969634  0.056530  0.615939  0.577099  0.953095"
      ]
     },
     "execution_count": 251,
     "metadata": {},
     "output_type": "execute_result"
    }
   ],
   "source": [
    "newdf.head()"
   ]
  },
  {
   "cell_type": "markdown",
   "id": "cd924e7b",
   "metadata": {},
   "source": [
    "want all the columns"
   ]
  },
  {
   "cell_type": "code",
   "execution_count": 252,
   "id": "9eef1443",
   "metadata": {},
   "outputs": [
    {
     "data": {
      "text/html": [
       "<div>\n",
       "<style scoped>\n",
       "    .dataframe tbody tr th:only-of-type {\n",
       "        vertical-align: middle;\n",
       "    }\n",
       "\n",
       "    .dataframe tbody tr th {\n",
       "        vertical-align: top;\n",
       "    }\n",
       "\n",
       "    .dataframe thead th {\n",
       "        text-align: right;\n",
       "    }\n",
       "</style>\n",
       "<table border=\"1\" class=\"dataframe\">\n",
       "  <thead>\n",
       "    <tr style=\"text-align: right;\">\n",
       "      <th></th>\n",
       "      <th>A</th>\n",
       "      <th>B</th>\n",
       "      <th>C</th>\n",
       "      <th>D</th>\n",
       "      <th>E</th>\n",
       "    </tr>\n",
       "  </thead>\n",
       "  <tbody>\n",
       "    <tr>\n",
       "      <th>1</th>\n",
       "      <td>0.661149</td>\n",
       "      <td>0.364377</td>\n",
       "      <td>0.382680</td>\n",
       "      <td>0.286471</td>\n",
       "      <td>0.293963</td>\n",
       "    </tr>\n",
       "    <tr>\n",
       "      <th>2</th>\n",
       "      <td>0.732445</td>\n",
       "      <td>0.651605</td>\n",
       "      <td>0.221675</td>\n",
       "      <td>0.410623</td>\n",
       "      <td>0.775324</td>\n",
       "    </tr>\n",
       "  </tbody>\n",
       "</table>\n",
       "</div>"
      ],
      "text/plain": [
       "          A         B         C         D         E\n",
       "1  0.661149  0.364377  0.382680  0.286471  0.293963\n",
       "2  0.732445  0.651605  0.221675  0.410623  0.775324"
      ]
     },
     "execution_count": 252,
     "metadata": {},
     "output_type": "execute_result"
    }
   ],
   "source": [
    "newdf.loc[[1,2], :]"
   ]
  },
  {
   "cell_type": "markdown",
   "id": "ad9cbd69",
   "metadata": {},
   "source": [
    "want all the rows"
   ]
  },
  {
   "cell_type": "code",
   "execution_count": 253,
   "id": "7b246366",
   "metadata": {},
   "outputs": [
    {
     "data": {
      "text/html": [
       "<div>\n",
       "<style scoped>\n",
       "    .dataframe tbody tr th:only-of-type {\n",
       "        vertical-align: middle;\n",
       "    }\n",
       "\n",
       "    .dataframe tbody tr th {\n",
       "        vertical-align: top;\n",
       "    }\n",
       "\n",
       "    .dataframe thead th {\n",
       "        text-align: right;\n",
       "    }\n",
       "</style>\n",
       "<table border=\"1\" class=\"dataframe\">\n",
       "  <thead>\n",
       "    <tr style=\"text-align: right;\">\n",
       "      <th></th>\n",
       "      <th>A</th>\n",
       "      <th>D</th>\n",
       "    </tr>\n",
       "  </thead>\n",
       "  <tbody>\n",
       "    <tr>\n",
       "      <th>0</th>\n",
       "      <td>456</td>\n",
       "      <td>0.536155</td>\n",
       "    </tr>\n",
       "    <tr>\n",
       "      <th>1</th>\n",
       "      <td>0.661149</td>\n",
       "      <td>0.286471</td>\n",
       "    </tr>\n",
       "    <tr>\n",
       "      <th>2</th>\n",
       "      <td>0.732445</td>\n",
       "      <td>0.410623</td>\n",
       "    </tr>\n",
       "    <tr>\n",
       "      <th>3</th>\n",
       "      <td>0.075717</td>\n",
       "      <td>0.532596</td>\n",
       "    </tr>\n",
       "    <tr>\n",
       "      <th>4</th>\n",
       "      <td>0.969634</td>\n",
       "      <td>0.577099</td>\n",
       "    </tr>\n",
       "    <tr>\n",
       "      <th>...</th>\n",
       "      <td>...</td>\n",
       "      <td>...</td>\n",
       "    </tr>\n",
       "    <tr>\n",
       "      <th>329</th>\n",
       "      <td>0.47067</td>\n",
       "      <td>0.105299</td>\n",
       "    </tr>\n",
       "    <tr>\n",
       "      <th>330</th>\n",
       "      <td>0.592158</td>\n",
       "      <td>0.304817</td>\n",
       "    </tr>\n",
       "    <tr>\n",
       "      <th>331</th>\n",
       "      <td>0.288743</td>\n",
       "      <td>0.564244</td>\n",
       "    </tr>\n",
       "    <tr>\n",
       "      <th>332</th>\n",
       "      <td>0.9935</td>\n",
       "      <td>0.514855</td>\n",
       "    </tr>\n",
       "    <tr>\n",
       "      <th>333</th>\n",
       "      <td>0.060533</td>\n",
       "      <td>0.192721</td>\n",
       "    </tr>\n",
       "  </tbody>\n",
       "</table>\n",
       "<p>334 rows × 2 columns</p>\n",
       "</div>"
      ],
      "text/plain": [
       "            A         D\n",
       "0         456  0.536155\n",
       "1    0.661149  0.286471\n",
       "2    0.732445  0.410623\n",
       "3    0.075717  0.532596\n",
       "4    0.969634  0.577099\n",
       "..        ...       ...\n",
       "329   0.47067  0.105299\n",
       "330  0.592158  0.304817\n",
       "331  0.288743  0.564244\n",
       "332    0.9935  0.514855\n",
       "333  0.060533  0.192721\n",
       "\n",
       "[334 rows x 2 columns]"
      ]
     },
     "execution_count": 253,
     "metadata": {},
     "output_type": "execute_result"
    }
   ],
   "source": [
    "newdf.loc[:, ['A', 'D']]"
   ]
  },
  {
   "cell_type": "markdown",
   "id": "6cbc87e5",
   "metadata": {},
   "source": [
    "complex query"
   ]
  },
  {
   "cell_type": "code",
   "execution_count": 254,
   "id": "92ca35d7",
   "metadata": {},
   "outputs": [
    {
     "data": {
      "text/html": [
       "<div>\n",
       "<style scoped>\n",
       "    .dataframe tbody tr th:only-of-type {\n",
       "        vertical-align: middle;\n",
       "    }\n",
       "\n",
       "    .dataframe tbody tr th {\n",
       "        vertical-align: top;\n",
       "    }\n",
       "\n",
       "    .dataframe thead th {\n",
       "        text-align: right;\n",
       "    }\n",
       "</style>\n",
       "<table border=\"1\" class=\"dataframe\">\n",
       "  <thead>\n",
       "    <tr style=\"text-align: right;\">\n",
       "      <th></th>\n",
       "      <th>A</th>\n",
       "      <th>B</th>\n",
       "      <th>C</th>\n",
       "      <th>D</th>\n",
       "      <th>E</th>\n",
       "    </tr>\n",
       "  </thead>\n",
       "  <tbody>\n",
       "    <tr>\n",
       "      <th>8</th>\n",
       "      <td>0.08855</td>\n",
       "      <td>0.157610</td>\n",
       "      <td>0.841358</td>\n",
       "      <td>0.561683</td>\n",
       "      <td>0.455980</td>\n",
       "    </tr>\n",
       "    <tr>\n",
       "      <th>12</th>\n",
       "      <td>0.147137</td>\n",
       "      <td>0.503119</td>\n",
       "      <td>0.821709</td>\n",
       "      <td>0.678746</td>\n",
       "      <td>0.075432</td>\n",
       "    </tr>\n",
       "    <tr>\n",
       "      <th>13</th>\n",
       "      <td>0.25489</td>\n",
       "      <td>0.709960</td>\n",
       "      <td>0.638764</td>\n",
       "      <td>0.817316</td>\n",
       "      <td>0.802277</td>\n",
       "    </tr>\n",
       "    <tr>\n",
       "      <th>14</th>\n",
       "      <td>0.161833</td>\n",
       "      <td>0.539174</td>\n",
       "      <td>0.873054</td>\n",
       "      <td>0.576413</td>\n",
       "      <td>0.290897</td>\n",
       "    </tr>\n",
       "    <tr>\n",
       "      <th>18</th>\n",
       "      <td>0.26527</td>\n",
       "      <td>0.572273</td>\n",
       "      <td>0.212218</td>\n",
       "      <td>0.545846</td>\n",
       "      <td>0.644728</td>\n",
       "    </tr>\n",
       "    <tr>\n",
       "      <th>...</th>\n",
       "      <td>...</td>\n",
       "      <td>...</td>\n",
       "      <td>...</td>\n",
       "      <td>...</td>\n",
       "      <td>...</td>\n",
       "    </tr>\n",
       "    <tr>\n",
       "      <th>313</th>\n",
       "      <td>0.214902</td>\n",
       "      <td>0.535788</td>\n",
       "      <td>0.713115</td>\n",
       "      <td>0.720199</td>\n",
       "      <td>0.578950</td>\n",
       "    </tr>\n",
       "    <tr>\n",
       "      <th>314</th>\n",
       "      <td>0.072983</td>\n",
       "      <td>0.747936</td>\n",
       "      <td>0.920903</td>\n",
       "      <td>0.615450</td>\n",
       "      <td>0.207927</td>\n",
       "    </tr>\n",
       "    <tr>\n",
       "      <th>325</th>\n",
       "      <td>0.296006</td>\n",
       "      <td>0.598987</td>\n",
       "      <td>0.236616</td>\n",
       "      <td>0.368165</td>\n",
       "      <td>0.333305</td>\n",
       "    </tr>\n",
       "    <tr>\n",
       "      <th>331</th>\n",
       "      <td>0.288743</td>\n",
       "      <td>0.843733</td>\n",
       "      <td>0.252554</td>\n",
       "      <td>0.564244</td>\n",
       "      <td>0.906881</td>\n",
       "    </tr>\n",
       "    <tr>\n",
       "      <th>333</th>\n",
       "      <td>0.060533</td>\n",
       "      <td>0.737999</td>\n",
       "      <td>0.245474</td>\n",
       "      <td>0.192721</td>\n",
       "      <td>0.563918</td>\n",
       "    </tr>\n",
       "  </tbody>\n",
       "</table>\n",
       "<p>112 rows × 5 columns</p>\n",
       "</div>"
      ],
      "text/plain": [
       "            A         B         C         D         E\n",
       "8     0.08855  0.157610  0.841358  0.561683  0.455980\n",
       "12   0.147137  0.503119  0.821709  0.678746  0.075432\n",
       "13    0.25489  0.709960  0.638764  0.817316  0.802277\n",
       "14   0.161833  0.539174  0.873054  0.576413  0.290897\n",
       "18    0.26527  0.572273  0.212218  0.545846  0.644728\n",
       "..        ...       ...       ...       ...       ...\n",
       "313  0.214902  0.535788  0.713115  0.720199  0.578950\n",
       "314  0.072983  0.747936  0.920903  0.615450  0.207927\n",
       "325  0.296006  0.598987  0.236616  0.368165  0.333305\n",
       "331  0.288743  0.843733  0.252554  0.564244  0.906881\n",
       "333  0.060533  0.737999  0.245474  0.192721  0.563918\n",
       "\n",
       "[112 rows x 5 columns]"
      ]
     },
     "execution_count": 254,
     "metadata": {},
     "output_type": "execute_result"
    }
   ],
   "source": [
    "newdf.loc[(newdf['A'] < 0.3)&(newdf['C'] > 0.1)]"
   ]
  },
  {
   "cell_type": "markdown",
   "id": "2099e2ca",
   "metadata": {},
   "source": [
    "# iloc\n",
    "used to locate the cells with numbers though the rows and columns names are not integers"
   ]
  },
  {
   "cell_type": "code",
   "execution_count": 255,
   "id": "04cb99dc",
   "metadata": {},
   "outputs": [
    {
     "data": {
      "text/plain": [
       "0.95666845062724"
      ]
     },
     "execution_count": 255,
     "metadata": {},
     "output_type": "execute_result"
    }
   ],
   "source": [
    "newdf.iloc[0,4]"
   ]
  },
  {
   "cell_type": "code",
   "execution_count": 256,
   "id": "56100786",
   "metadata": {},
   "outputs": [
    {
     "data": {
      "text/html": [
       "<div>\n",
       "<style scoped>\n",
       "    .dataframe tbody tr th:only-of-type {\n",
       "        vertical-align: middle;\n",
       "    }\n",
       "\n",
       "    .dataframe tbody tr th {\n",
       "        vertical-align: top;\n",
       "    }\n",
       "\n",
       "    .dataframe thead th {\n",
       "        text-align: right;\n",
       "    }\n",
       "</style>\n",
       "<table border=\"1\" class=\"dataframe\">\n",
       "  <thead>\n",
       "    <tr style=\"text-align: right;\">\n",
       "      <th></th>\n",
       "      <th>B</th>\n",
       "      <th>C</th>\n",
       "    </tr>\n",
       "  </thead>\n",
       "  <tbody>\n",
       "    <tr>\n",
       "      <th>0</th>\n",
       "      <td>0.553429</td>\n",
       "      <td>0.280314</td>\n",
       "    </tr>\n",
       "    <tr>\n",
       "      <th>5</th>\n",
       "      <td>0.150110</td>\n",
       "      <td>0.300824</td>\n",
       "    </tr>\n",
       "  </tbody>\n",
       "</table>\n",
       "</div>"
      ],
      "text/plain": [
       "          B         C\n",
       "0  0.553429  0.280314\n",
       "5  0.150110  0.300824"
      ]
     },
     "execution_count": 256,
     "metadata": {},
     "output_type": "execute_result"
    }
   ],
   "source": [
    "newdf.iloc[[0,5], [1,2]]"
   ]
  },
  {
   "cell_type": "markdown",
   "id": "436d0c8b",
   "metadata": {},
   "source": [
    "# drop\n",
    "\n",
    "by default\n",
    "\n",
    "- axis = 0, that is, rows\n",
    "\n",
    "- inplace = False, that is, original dataframe doesn't get changed"
   ]
  },
  {
   "cell_type": "code",
   "execution_count": 257,
   "id": "805c84c7",
   "metadata": {},
   "outputs": [
    {
     "data": {
      "text/html": [
       "<div>\n",
       "<style scoped>\n",
       "    .dataframe tbody tr th:only-of-type {\n",
       "        vertical-align: middle;\n",
       "    }\n",
       "\n",
       "    .dataframe tbody tr th {\n",
       "        vertical-align: top;\n",
       "    }\n",
       "\n",
       "    .dataframe thead th {\n",
       "        text-align: right;\n",
       "    }\n",
       "</style>\n",
       "<table border=\"1\" class=\"dataframe\">\n",
       "  <thead>\n",
       "    <tr style=\"text-align: right;\">\n",
       "      <th></th>\n",
       "      <th>A</th>\n",
       "      <th>B</th>\n",
       "      <th>C</th>\n",
       "      <th>D</th>\n",
       "      <th>E</th>\n",
       "    </tr>\n",
       "  </thead>\n",
       "  <tbody>\n",
       "    <tr>\n",
       "      <th>0</th>\n",
       "      <td>456</td>\n",
       "      <td>0.553429</td>\n",
       "      <td>0.280314</td>\n",
       "      <td>0.536155</td>\n",
       "      <td>0.956668</td>\n",
       "    </tr>\n",
       "    <tr>\n",
       "      <th>1</th>\n",
       "      <td>0.661149</td>\n",
       "      <td>0.364377</td>\n",
       "      <td>0.382680</td>\n",
       "      <td>0.286471</td>\n",
       "      <td>0.293963</td>\n",
       "    </tr>\n",
       "    <tr>\n",
       "      <th>2</th>\n",
       "      <td>0.732445</td>\n",
       "      <td>0.651605</td>\n",
       "      <td>0.221675</td>\n",
       "      <td>0.410623</td>\n",
       "      <td>0.775324</td>\n",
       "    </tr>\n",
       "  </tbody>\n",
       "</table>\n",
       "</div>"
      ],
      "text/plain": [
       "          A         B         C         D         E\n",
       "0       456  0.553429  0.280314  0.536155  0.956668\n",
       "1  0.661149  0.364377  0.382680  0.286471  0.293963\n",
       "2  0.732445  0.651605  0.221675  0.410623  0.775324"
      ]
     },
     "execution_count": 257,
     "metadata": {},
     "output_type": "execute_result"
    }
   ],
   "source": [
    "newdf.head(3)"
   ]
  },
  {
   "cell_type": "code",
   "execution_count": 258,
   "id": "77487e80",
   "metadata": {},
   "outputs": [
    {
     "data": {
      "text/html": [
       "<div>\n",
       "<style scoped>\n",
       "    .dataframe tbody tr th:only-of-type {\n",
       "        vertical-align: middle;\n",
       "    }\n",
       "\n",
       "    .dataframe tbody tr th {\n",
       "        vertical-align: top;\n",
       "    }\n",
       "\n",
       "    .dataframe thead th {\n",
       "        text-align: right;\n",
       "    }\n",
       "</style>\n",
       "<table border=\"1\" class=\"dataframe\">\n",
       "  <thead>\n",
       "    <tr style=\"text-align: right;\">\n",
       "      <th></th>\n",
       "      <th>A</th>\n",
       "      <th>B</th>\n",
       "      <th>C</th>\n",
       "      <th>D</th>\n",
       "      <th>E</th>\n",
       "    </tr>\n",
       "  </thead>\n",
       "  <tbody>\n",
       "    <tr>\n",
       "      <th>1</th>\n",
       "      <td>0.661149</td>\n",
       "      <td>0.364377</td>\n",
       "      <td>0.382680</td>\n",
       "      <td>0.286471</td>\n",
       "      <td>0.293963</td>\n",
       "    </tr>\n",
       "    <tr>\n",
       "      <th>2</th>\n",
       "      <td>0.732445</td>\n",
       "      <td>0.651605</td>\n",
       "      <td>0.221675</td>\n",
       "      <td>0.410623</td>\n",
       "      <td>0.775324</td>\n",
       "    </tr>\n",
       "    <tr>\n",
       "      <th>3</th>\n",
       "      <td>0.075717</td>\n",
       "      <td>0.585709</td>\n",
       "      <td>0.092021</td>\n",
       "      <td>0.532596</td>\n",
       "      <td>0.743838</td>\n",
       "    </tr>\n",
       "    <tr>\n",
       "      <th>4</th>\n",
       "      <td>0.969634</td>\n",
       "      <td>0.056530</td>\n",
       "      <td>0.615939</td>\n",
       "      <td>0.577099</td>\n",
       "      <td>0.953095</td>\n",
       "    </tr>\n",
       "    <tr>\n",
       "      <th>5</th>\n",
       "      <td>0.795666</td>\n",
       "      <td>0.150110</td>\n",
       "      <td>0.300824</td>\n",
       "      <td>0.025022</td>\n",
       "      <td>0.079250</td>\n",
       "    </tr>\n",
       "    <tr>\n",
       "      <th>...</th>\n",
       "      <td>...</td>\n",
       "      <td>...</td>\n",
       "      <td>...</td>\n",
       "      <td>...</td>\n",
       "      <td>...</td>\n",
       "    </tr>\n",
       "    <tr>\n",
       "      <th>329</th>\n",
       "      <td>0.47067</td>\n",
       "      <td>0.270655</td>\n",
       "      <td>0.085958</td>\n",
       "      <td>0.105299</td>\n",
       "      <td>0.498442</td>\n",
       "    </tr>\n",
       "    <tr>\n",
       "      <th>330</th>\n",
       "      <td>0.592158</td>\n",
       "      <td>0.062938</td>\n",
       "      <td>0.127649</td>\n",
       "      <td>0.304817</td>\n",
       "      <td>0.579669</td>\n",
       "    </tr>\n",
       "    <tr>\n",
       "      <th>331</th>\n",
       "      <td>0.288743</td>\n",
       "      <td>0.843733</td>\n",
       "      <td>0.252554</td>\n",
       "      <td>0.564244</td>\n",
       "      <td>0.906881</td>\n",
       "    </tr>\n",
       "    <tr>\n",
       "      <th>332</th>\n",
       "      <td>0.9935</td>\n",
       "      <td>0.684352</td>\n",
       "      <td>0.196891</td>\n",
       "      <td>0.514855</td>\n",
       "      <td>0.696257</td>\n",
       "    </tr>\n",
       "    <tr>\n",
       "      <th>333</th>\n",
       "      <td>0.060533</td>\n",
       "      <td>0.737999</td>\n",
       "      <td>0.245474</td>\n",
       "      <td>0.192721</td>\n",
       "      <td>0.563918</td>\n",
       "    </tr>\n",
       "  </tbody>\n",
       "</table>\n",
       "<p>333 rows × 5 columns</p>\n",
       "</div>"
      ],
      "text/plain": [
       "            A         B         C         D         E\n",
       "1    0.661149  0.364377  0.382680  0.286471  0.293963\n",
       "2    0.732445  0.651605  0.221675  0.410623  0.775324\n",
       "3    0.075717  0.585709  0.092021  0.532596  0.743838\n",
       "4    0.969634  0.056530  0.615939  0.577099  0.953095\n",
       "5    0.795666  0.150110  0.300824  0.025022  0.079250\n",
       "..        ...       ...       ...       ...       ...\n",
       "329   0.47067  0.270655  0.085958  0.105299  0.498442\n",
       "330  0.592158  0.062938  0.127649  0.304817  0.579669\n",
       "331  0.288743  0.843733  0.252554  0.564244  0.906881\n",
       "332    0.9935  0.684352  0.196891  0.514855  0.696257\n",
       "333  0.060533  0.737999  0.245474  0.192721  0.563918\n",
       "\n",
       "[333 rows x 5 columns]"
      ]
     },
     "execution_count": 258,
     "metadata": {},
     "output_type": "execute_result"
    }
   ],
   "source": [
    "newdf.drop([0])"
   ]
  },
  {
   "cell_type": "code",
   "execution_count": 259,
   "id": "e444f092",
   "metadata": {},
   "outputs": [],
   "source": [
    "newdf.drop(['A', 'C'], axis=1, inplace=True)"
   ]
  },
  {
   "cell_type": "code",
   "execution_count": 260,
   "id": "114c6be5",
   "metadata": {},
   "outputs": [
    {
     "data": {
      "text/html": [
       "<div>\n",
       "<style scoped>\n",
       "    .dataframe tbody tr th:only-of-type {\n",
       "        vertical-align: middle;\n",
       "    }\n",
       "\n",
       "    .dataframe tbody tr th {\n",
       "        vertical-align: top;\n",
       "    }\n",
       "\n",
       "    .dataframe thead th {\n",
       "        text-align: right;\n",
       "    }\n",
       "</style>\n",
       "<table border=\"1\" class=\"dataframe\">\n",
       "  <thead>\n",
       "    <tr style=\"text-align: right;\">\n",
       "      <th></th>\n",
       "      <th>B</th>\n",
       "      <th>D</th>\n",
       "      <th>E</th>\n",
       "    </tr>\n",
       "  </thead>\n",
       "  <tbody>\n",
       "    <tr>\n",
       "      <th>0</th>\n",
       "      <td>0.553429</td>\n",
       "      <td>0.536155</td>\n",
       "      <td>0.956668</td>\n",
       "    </tr>\n",
       "    <tr>\n",
       "      <th>1</th>\n",
       "      <td>0.364377</td>\n",
       "      <td>0.286471</td>\n",
       "      <td>0.293963</td>\n",
       "    </tr>\n",
       "    <tr>\n",
       "      <th>2</th>\n",
       "      <td>0.651605</td>\n",
       "      <td>0.410623</td>\n",
       "      <td>0.775324</td>\n",
       "    </tr>\n",
       "    <tr>\n",
       "      <th>3</th>\n",
       "      <td>0.585709</td>\n",
       "      <td>0.532596</td>\n",
       "      <td>0.743838</td>\n",
       "    </tr>\n",
       "    <tr>\n",
       "      <th>4</th>\n",
       "      <td>0.056530</td>\n",
       "      <td>0.577099</td>\n",
       "      <td>0.953095</td>\n",
       "    </tr>\n",
       "    <tr>\n",
       "      <th>...</th>\n",
       "      <td>...</td>\n",
       "      <td>...</td>\n",
       "      <td>...</td>\n",
       "    </tr>\n",
       "    <tr>\n",
       "      <th>329</th>\n",
       "      <td>0.270655</td>\n",
       "      <td>0.105299</td>\n",
       "      <td>0.498442</td>\n",
       "    </tr>\n",
       "    <tr>\n",
       "      <th>330</th>\n",
       "      <td>0.062938</td>\n",
       "      <td>0.304817</td>\n",
       "      <td>0.579669</td>\n",
       "    </tr>\n",
       "    <tr>\n",
       "      <th>331</th>\n",
       "      <td>0.843733</td>\n",
       "      <td>0.564244</td>\n",
       "      <td>0.906881</td>\n",
       "    </tr>\n",
       "    <tr>\n",
       "      <th>332</th>\n",
       "      <td>0.684352</td>\n",
       "      <td>0.514855</td>\n",
       "      <td>0.696257</td>\n",
       "    </tr>\n",
       "    <tr>\n",
       "      <th>333</th>\n",
       "      <td>0.737999</td>\n",
       "      <td>0.192721</td>\n",
       "      <td>0.563918</td>\n",
       "    </tr>\n",
       "  </tbody>\n",
       "</table>\n",
       "<p>334 rows × 3 columns</p>\n",
       "</div>"
      ],
      "text/plain": [
       "            B         D         E\n",
       "0    0.553429  0.536155  0.956668\n",
       "1    0.364377  0.286471  0.293963\n",
       "2    0.651605  0.410623  0.775324\n",
       "3    0.585709  0.532596  0.743838\n",
       "4    0.056530  0.577099  0.953095\n",
       "..        ...       ...       ...\n",
       "329  0.270655  0.105299  0.498442\n",
       "330  0.062938  0.304817  0.579669\n",
       "331  0.843733  0.564244  0.906881\n",
       "332  0.684352  0.514855  0.696257\n",
       "333  0.737999  0.192721  0.563918\n",
       "\n",
       "[334 rows x 3 columns]"
      ]
     },
     "execution_count": 260,
     "metadata": {},
     "output_type": "execute_result"
    }
   ],
   "source": [
    "newdf"
   ]
  },
  {
   "cell_type": "code",
   "execution_count": 261,
   "id": "b1e98b6f",
   "metadata": {},
   "outputs": [
    {
     "data": {
      "text/html": [
       "<div>\n",
       "<style scoped>\n",
       "    .dataframe tbody tr th:only-of-type {\n",
       "        vertical-align: middle;\n",
       "    }\n",
       "\n",
       "    .dataframe tbody tr th {\n",
       "        vertical-align: top;\n",
       "    }\n",
       "\n",
       "    .dataframe thead th {\n",
       "        text-align: right;\n",
       "    }\n",
       "</style>\n",
       "<table border=\"1\" class=\"dataframe\">\n",
       "  <thead>\n",
       "    <tr style=\"text-align: right;\">\n",
       "      <th></th>\n",
       "      <th>B</th>\n",
       "      <th>D</th>\n",
       "      <th>E</th>\n",
       "    </tr>\n",
       "  </thead>\n",
       "  <tbody>\n",
       "    <tr>\n",
       "      <th>0</th>\n",
       "      <td>0.553429</td>\n",
       "      <td>0.536155</td>\n",
       "      <td>0.956668</td>\n",
       "    </tr>\n",
       "    <tr>\n",
       "      <th>2</th>\n",
       "      <td>0.651605</td>\n",
       "      <td>0.410623</td>\n",
       "      <td>0.775324</td>\n",
       "    </tr>\n",
       "    <tr>\n",
       "      <th>3</th>\n",
       "      <td>0.585709</td>\n",
       "      <td>0.532596</td>\n",
       "      <td>0.743838</td>\n",
       "    </tr>\n",
       "    <tr>\n",
       "      <th>4</th>\n",
       "      <td>0.056530</td>\n",
       "      <td>0.577099</td>\n",
       "      <td>0.953095</td>\n",
       "    </tr>\n",
       "    <tr>\n",
       "      <th>6</th>\n",
       "      <td>0.490363</td>\n",
       "      <td>0.675744</td>\n",
       "      <td>0.674815</td>\n",
       "    </tr>\n",
       "    <tr>\n",
       "      <th>...</th>\n",
       "      <td>...</td>\n",
       "      <td>...</td>\n",
       "      <td>...</td>\n",
       "    </tr>\n",
       "    <tr>\n",
       "      <th>329</th>\n",
       "      <td>0.270655</td>\n",
       "      <td>0.105299</td>\n",
       "      <td>0.498442</td>\n",
       "    </tr>\n",
       "    <tr>\n",
       "      <th>330</th>\n",
       "      <td>0.062938</td>\n",
       "      <td>0.304817</td>\n",
       "      <td>0.579669</td>\n",
       "    </tr>\n",
       "    <tr>\n",
       "      <th>331</th>\n",
       "      <td>0.843733</td>\n",
       "      <td>0.564244</td>\n",
       "      <td>0.906881</td>\n",
       "    </tr>\n",
       "    <tr>\n",
       "      <th>332</th>\n",
       "      <td>0.684352</td>\n",
       "      <td>0.514855</td>\n",
       "      <td>0.696257</td>\n",
       "    </tr>\n",
       "    <tr>\n",
       "      <th>333</th>\n",
       "      <td>0.737999</td>\n",
       "      <td>0.192721</td>\n",
       "      <td>0.563918</td>\n",
       "    </tr>\n",
       "  </tbody>\n",
       "</table>\n",
       "<p>332 rows × 3 columns</p>\n",
       "</div>"
      ],
      "text/plain": [
       "            B         D         E\n",
       "0    0.553429  0.536155  0.956668\n",
       "2    0.651605  0.410623  0.775324\n",
       "3    0.585709  0.532596  0.743838\n",
       "4    0.056530  0.577099  0.953095\n",
       "6    0.490363  0.675744  0.674815\n",
       "..        ...       ...       ...\n",
       "329  0.270655  0.105299  0.498442\n",
       "330  0.062938  0.304817  0.579669\n",
       "331  0.843733  0.564244  0.906881\n",
       "332  0.684352  0.514855  0.696257\n",
       "333  0.737999  0.192721  0.563918\n",
       "\n",
       "[332 rows x 3 columns]"
      ]
     },
     "execution_count": 261,
     "metadata": {},
     "output_type": "execute_result"
    }
   ],
   "source": [
    "newdf.drop([1,5], axis=0, inplace = True)\n",
    "newdf"
   ]
  },
  {
   "cell_type": "markdown",
   "id": "a580af44",
   "metadata": {},
   "source": [
    "# reset_index\n",
    "\n",
    "getting back the deleted rows or columns"
   ]
  },
  {
   "cell_type": "code",
   "execution_count": 262,
   "id": "b99d17ba",
   "metadata": {},
   "outputs": [
    {
     "data": {
      "text/html": [
       "<div>\n",
       "<style scoped>\n",
       "    .dataframe tbody tr th:only-of-type {\n",
       "        vertical-align: middle;\n",
       "    }\n",
       "\n",
       "    .dataframe tbody tr th {\n",
       "        vertical-align: top;\n",
       "    }\n",
       "\n",
       "    .dataframe thead th {\n",
       "        text-align: right;\n",
       "    }\n",
       "</style>\n",
       "<table border=\"1\" class=\"dataframe\">\n",
       "  <thead>\n",
       "    <tr style=\"text-align: right;\">\n",
       "      <th></th>\n",
       "      <th>B</th>\n",
       "      <th>D</th>\n",
       "      <th>E</th>\n",
       "    </tr>\n",
       "  </thead>\n",
       "  <tbody>\n",
       "    <tr>\n",
       "      <th>0</th>\n",
       "      <td>0.553429</td>\n",
       "      <td>0.536155</td>\n",
       "      <td>0.956668</td>\n",
       "    </tr>\n",
       "    <tr>\n",
       "      <th>1</th>\n",
       "      <td>0.651605</td>\n",
       "      <td>0.410623</td>\n",
       "      <td>0.775324</td>\n",
       "    </tr>\n",
       "    <tr>\n",
       "      <th>2</th>\n",
       "      <td>0.585709</td>\n",
       "      <td>0.532596</td>\n",
       "      <td>0.743838</td>\n",
       "    </tr>\n",
       "    <tr>\n",
       "      <th>3</th>\n",
       "      <td>0.056530</td>\n",
       "      <td>0.577099</td>\n",
       "      <td>0.953095</td>\n",
       "    </tr>\n",
       "    <tr>\n",
       "      <th>4</th>\n",
       "      <td>0.490363</td>\n",
       "      <td>0.675744</td>\n",
       "      <td>0.674815</td>\n",
       "    </tr>\n",
       "    <tr>\n",
       "      <th>...</th>\n",
       "      <td>...</td>\n",
       "      <td>...</td>\n",
       "      <td>...</td>\n",
       "    </tr>\n",
       "    <tr>\n",
       "      <th>327</th>\n",
       "      <td>0.270655</td>\n",
       "      <td>0.105299</td>\n",
       "      <td>0.498442</td>\n",
       "    </tr>\n",
       "    <tr>\n",
       "      <th>328</th>\n",
       "      <td>0.062938</td>\n",
       "      <td>0.304817</td>\n",
       "      <td>0.579669</td>\n",
       "    </tr>\n",
       "    <tr>\n",
       "      <th>329</th>\n",
       "      <td>0.843733</td>\n",
       "      <td>0.564244</td>\n",
       "      <td>0.906881</td>\n",
       "    </tr>\n",
       "    <tr>\n",
       "      <th>330</th>\n",
       "      <td>0.684352</td>\n",
       "      <td>0.514855</td>\n",
       "      <td>0.696257</td>\n",
       "    </tr>\n",
       "    <tr>\n",
       "      <th>331</th>\n",
       "      <td>0.737999</td>\n",
       "      <td>0.192721</td>\n",
       "      <td>0.563918</td>\n",
       "    </tr>\n",
       "  </tbody>\n",
       "</table>\n",
       "<p>332 rows × 3 columns</p>\n",
       "</div>"
      ],
      "text/plain": [
       "            B         D         E\n",
       "0    0.553429  0.536155  0.956668\n",
       "1    0.651605  0.410623  0.775324\n",
       "2    0.585709  0.532596  0.743838\n",
       "3    0.056530  0.577099  0.953095\n",
       "4    0.490363  0.675744  0.674815\n",
       "..        ...       ...       ...\n",
       "327  0.270655  0.105299  0.498442\n",
       "328  0.062938  0.304817  0.579669\n",
       "329  0.843733  0.564244  0.906881\n",
       "330  0.684352  0.514855  0.696257\n",
       "331  0.737999  0.192721  0.563918\n",
       "\n",
       "[332 rows x 3 columns]"
      ]
     },
     "execution_count": 262,
     "metadata": {},
     "output_type": "execute_result"
    }
   ],
   "source": [
    "newdf.reset_index(drop = True, inplace = True)\n",
    "newdf"
   ]
  },
  {
   "cell_type": "markdown",
   "id": "40cd7d8b",
   "metadata": {},
   "source": [
    "# isnull\n",
    "\n",
    "returns a bool whether a cell is null or not"
   ]
  },
  {
   "cell_type": "code",
   "execution_count": 294,
   "id": "9a354370",
   "metadata": {},
   "outputs": [
    {
     "data": {
      "text/html": [
       "<div>\n",
       "<style scoped>\n",
       "    .dataframe tbody tr th:only-of-type {\n",
       "        vertical-align: middle;\n",
       "    }\n",
       "\n",
       "    .dataframe tbody tr th {\n",
       "        vertical-align: top;\n",
       "    }\n",
       "\n",
       "    .dataframe thead th {\n",
       "        text-align: right;\n",
       "    }\n",
       "</style>\n",
       "<table border=\"1\" class=\"dataframe\">\n",
       "  <thead>\n",
       "    <tr style=\"text-align: right;\">\n",
       "      <th></th>\n",
       "      <th>B</th>\n",
       "      <th>D</th>\n",
       "      <th>E</th>\n",
       "    </tr>\n",
       "  </thead>\n",
       "  <tbody>\n",
       "    <tr>\n",
       "      <th>0</th>\n",
       "      <td>False</td>\n",
       "      <td>False</td>\n",
       "      <td>False</td>\n",
       "    </tr>\n",
       "    <tr>\n",
       "      <th>1</th>\n",
       "      <td>False</td>\n",
       "      <td>False</td>\n",
       "      <td>False</td>\n",
       "    </tr>\n",
       "    <tr>\n",
       "      <th>2</th>\n",
       "      <td>False</td>\n",
       "      <td>False</td>\n",
       "      <td>False</td>\n",
       "    </tr>\n",
       "    <tr>\n",
       "      <th>3</th>\n",
       "      <td>False</td>\n",
       "      <td>False</td>\n",
       "      <td>False</td>\n",
       "    </tr>\n",
       "    <tr>\n",
       "      <th>4</th>\n",
       "      <td>False</td>\n",
       "      <td>False</td>\n",
       "      <td>False</td>\n",
       "    </tr>\n",
       "    <tr>\n",
       "      <th>...</th>\n",
       "      <td>...</td>\n",
       "      <td>...</td>\n",
       "      <td>...</td>\n",
       "    </tr>\n",
       "    <tr>\n",
       "      <th>327</th>\n",
       "      <td>False</td>\n",
       "      <td>False</td>\n",
       "      <td>False</td>\n",
       "    </tr>\n",
       "    <tr>\n",
       "      <th>328</th>\n",
       "      <td>False</td>\n",
       "      <td>False</td>\n",
       "      <td>False</td>\n",
       "    </tr>\n",
       "    <tr>\n",
       "      <th>329</th>\n",
       "      <td>False</td>\n",
       "      <td>False</td>\n",
       "      <td>False</td>\n",
       "    </tr>\n",
       "    <tr>\n",
       "      <th>330</th>\n",
       "      <td>False</td>\n",
       "      <td>False</td>\n",
       "      <td>False</td>\n",
       "    </tr>\n",
       "    <tr>\n",
       "      <th>331</th>\n",
       "      <td>False</td>\n",
       "      <td>False</td>\n",
       "      <td>False</td>\n",
       "    </tr>\n",
       "  </tbody>\n",
       "</table>\n",
       "<p>332 rows × 3 columns</p>\n",
       "</div>"
      ],
      "text/plain": [
       "         B      D      E\n",
       "0    False  False  False\n",
       "1    False  False  False\n",
       "2    False  False  False\n",
       "3    False  False  False\n",
       "4    False  False  False\n",
       "..     ...    ...    ...\n",
       "327  False  False  False\n",
       "328  False  False  False\n",
       "329  False  False  False\n",
       "330  False  False  False\n",
       "331  False  False  False\n",
       "\n",
       "[332 rows x 3 columns]"
      ]
     },
     "execution_count": 294,
     "metadata": {},
     "output_type": "execute_result"
    }
   ],
   "source": [
    "newdf.isnull()"
   ]
  },
  {
   "cell_type": "code",
   "execution_count": 263,
   "id": "8aea9daf",
   "metadata": {},
   "outputs": [
    {
     "data": {
      "text/plain": [
       "0      False\n",
       "1      False\n",
       "2      False\n",
       "3      False\n",
       "4      False\n",
       "       ...  \n",
       "327    False\n",
       "328    False\n",
       "329    False\n",
       "330    False\n",
       "331    False\n",
       "Name: B, Length: 332, dtype: bool"
      ]
     },
     "execution_count": 263,
     "metadata": {},
     "output_type": "execute_result"
    }
   ],
   "source": [
    "newdf['B'].isnull()"
   ]
  },
  {
   "cell_type": "code",
   "execution_count": 264,
   "id": "60ffd5ab",
   "metadata": {},
   "outputs": [
    {
     "data": {
      "text/plain": [
       "0      True\n",
       "1      True\n",
       "2      True\n",
       "3      True\n",
       "4      True\n",
       "       ... \n",
       "327    True\n",
       "328    True\n",
       "329    True\n",
       "330    True\n",
       "331    True\n",
       "Name: B, Length: 332, dtype: bool"
      ]
     },
     "execution_count": 264,
     "metadata": {},
     "output_type": "execute_result"
    }
   ],
   "source": [
    "newdf.loc[:,'B'] = None\n",
    "newdf['B'].isnull()"
   ]
  },
  {
   "cell_type": "code",
   "execution_count": 265,
   "id": "da0f3572",
   "metadata": {},
   "outputs": [
    {
     "data": {
      "text/plain": [
       "0      False\n",
       "1      False\n",
       "2      False\n",
       "3      False\n",
       "4      False\n",
       "       ...  \n",
       "327    False\n",
       "328    False\n",
       "329    False\n",
       "330    False\n",
       "331    False\n",
       "Name: B, Length: 332, dtype: bool"
      ]
     },
     "execution_count": 265,
     "metadata": {},
     "output_type": "execute_result"
    }
   ],
   "source": [
    "newdf.loc[:,'B'] = 34\n",
    "newdf['B'].isnull()"
   ]
  },
  {
   "cell_type": "code",
   "execution_count": 266,
   "id": "8dd0840a",
   "metadata": {},
   "outputs": [
    {
     "data": {
      "text/html": [
       "<div>\n",
       "<style scoped>\n",
       "    .dataframe tbody tr th:only-of-type {\n",
       "        vertical-align: middle;\n",
       "    }\n",
       "\n",
       "    .dataframe tbody tr th {\n",
       "        vertical-align: top;\n",
       "    }\n",
       "\n",
       "    .dataframe thead th {\n",
       "        text-align: right;\n",
       "    }\n",
       "</style>\n",
       "<table border=\"1\" class=\"dataframe\">\n",
       "  <thead>\n",
       "    <tr style=\"text-align: right;\">\n",
       "      <th></th>\n",
       "      <th>B</th>\n",
       "      <th>D</th>\n",
       "      <th>E</th>\n",
       "    </tr>\n",
       "  </thead>\n",
       "  <tbody>\n",
       "    <tr>\n",
       "      <th>0</th>\n",
       "      <td>34</td>\n",
       "      <td>0.536155</td>\n",
       "      <td>0.956668</td>\n",
       "    </tr>\n",
       "    <tr>\n",
       "      <th>1</th>\n",
       "      <td>34</td>\n",
       "      <td>0.410623</td>\n",
       "      <td>0.775324</td>\n",
       "    </tr>\n",
       "    <tr>\n",
       "      <th>2</th>\n",
       "      <td>34</td>\n",
       "      <td>0.532596</td>\n",
       "      <td>0.743838</td>\n",
       "    </tr>\n",
       "    <tr>\n",
       "      <th>3</th>\n",
       "      <td>34</td>\n",
       "      <td>0.577099</td>\n",
       "      <td>0.953095</td>\n",
       "    </tr>\n",
       "    <tr>\n",
       "      <th>4</th>\n",
       "      <td>34</td>\n",
       "      <td>0.675744</td>\n",
       "      <td>0.674815</td>\n",
       "    </tr>\n",
       "    <tr>\n",
       "      <th>...</th>\n",
       "      <td>...</td>\n",
       "      <td>...</td>\n",
       "      <td>...</td>\n",
       "    </tr>\n",
       "    <tr>\n",
       "      <th>327</th>\n",
       "      <td>34</td>\n",
       "      <td>0.105299</td>\n",
       "      <td>0.498442</td>\n",
       "    </tr>\n",
       "    <tr>\n",
       "      <th>328</th>\n",
       "      <td>34</td>\n",
       "      <td>0.304817</td>\n",
       "      <td>0.579669</td>\n",
       "    </tr>\n",
       "    <tr>\n",
       "      <th>329</th>\n",
       "      <td>34</td>\n",
       "      <td>0.564244</td>\n",
       "      <td>0.906881</td>\n",
       "    </tr>\n",
       "    <tr>\n",
       "      <th>330</th>\n",
       "      <td>34</td>\n",
       "      <td>0.514855</td>\n",
       "      <td>0.696257</td>\n",
       "    </tr>\n",
       "    <tr>\n",
       "      <th>331</th>\n",
       "      <td>34</td>\n",
       "      <td>0.192721</td>\n",
       "      <td>0.563918</td>\n",
       "    </tr>\n",
       "  </tbody>\n",
       "</table>\n",
       "<p>332 rows × 3 columns</p>\n",
       "</div>"
      ],
      "text/plain": [
       "      B         D         E\n",
       "0    34  0.536155  0.956668\n",
       "1    34  0.410623  0.775324\n",
       "2    34  0.532596  0.743838\n",
       "3    34  0.577099  0.953095\n",
       "4    34  0.675744  0.674815\n",
       "..   ..       ...       ...\n",
       "327  34  0.105299  0.498442\n",
       "328  34  0.304817  0.579669\n",
       "329  34  0.564244  0.906881\n",
       "330  34  0.514855  0.696257\n",
       "331  34  0.192721  0.563918\n",
       "\n",
       "[332 rows x 3 columns]"
      ]
     },
     "execution_count": 266,
     "metadata": {},
     "output_type": "execute_result"
    }
   ],
   "source": [
    "newdf"
   ]
  },
  {
   "cell_type": "markdown",
   "id": "0f73ce8c",
   "metadata": {},
   "source": [
    "# dropna\n",
    "remove nulls"
   ]
  },
  {
   "cell_type": "code",
   "execution_count": 275,
   "id": "fb69a334",
   "metadata": {},
   "outputs": [],
   "source": [
    "df = pd.DataFrame(\n",
    "    {\n",
    "        \"name\" : ['Ranjith','Pravith', 'Bobby'],\n",
    "        'state' : ['Telangana','Assam',  np.nan], # pd.NA means None(not a number) # # np.nan means None(not a number)\n",
    "        \"born\": [ pd.NaT,pd.Timestamp(\"2003-07-06\"), pd.NaT] # pd.Timestamp stands for the time # pd.NaT means None(a missing date)\n",
    "    }\n",
    ")"
   ]
  },
  {
   "cell_type": "code",
   "execution_count": 276,
   "id": "9d18e603",
   "metadata": {},
   "outputs": [
    {
     "data": {
      "text/html": [
       "<div>\n",
       "<style scoped>\n",
       "    .dataframe tbody tr th:only-of-type {\n",
       "        vertical-align: middle;\n",
       "    }\n",
       "\n",
       "    .dataframe tbody tr th {\n",
       "        vertical-align: top;\n",
       "    }\n",
       "\n",
       "    .dataframe thead th {\n",
       "        text-align: right;\n",
       "    }\n",
       "</style>\n",
       "<table border=\"1\" class=\"dataframe\">\n",
       "  <thead>\n",
       "    <tr style=\"text-align: right;\">\n",
       "      <th></th>\n",
       "      <th>name</th>\n",
       "      <th>state</th>\n",
       "      <th>born</th>\n",
       "    </tr>\n",
       "  </thead>\n",
       "  <tbody>\n",
       "    <tr>\n",
       "      <th>0</th>\n",
       "      <td>Ranjith</td>\n",
       "      <td>Telangana</td>\n",
       "      <td>NaT</td>\n",
       "    </tr>\n",
       "    <tr>\n",
       "      <th>1</th>\n",
       "      <td>Pravith</td>\n",
       "      <td>Assam</td>\n",
       "      <td>2003-07-06</td>\n",
       "    </tr>\n",
       "    <tr>\n",
       "      <th>2</th>\n",
       "      <td>Bobby</td>\n",
       "      <td>NaN</td>\n",
       "      <td>NaT</td>\n",
       "    </tr>\n",
       "  </tbody>\n",
       "</table>\n",
       "</div>"
      ],
      "text/plain": [
       "      name      state       born\n",
       "0  Ranjith  Telangana        NaT\n",
       "1  Pravith      Assam 2003-07-06\n",
       "2    Bobby        NaN        NaT"
      ]
     },
     "execution_count": 276,
     "metadata": {},
     "output_type": "execute_result"
    }
   ],
   "source": [
    "df"
   ]
  },
  {
   "cell_type": "code",
   "execution_count": 277,
   "id": "71c9cfa7",
   "metadata": {},
   "outputs": [
    {
     "data": {
      "text/html": [
       "<div>\n",
       "<style scoped>\n",
       "    .dataframe tbody tr th:only-of-type {\n",
       "        vertical-align: middle;\n",
       "    }\n",
       "\n",
       "    .dataframe tbody tr th {\n",
       "        vertical-align: top;\n",
       "    }\n",
       "\n",
       "    .dataframe thead th {\n",
       "        text-align: right;\n",
       "    }\n",
       "</style>\n",
       "<table border=\"1\" class=\"dataframe\">\n",
       "  <thead>\n",
       "    <tr style=\"text-align: right;\">\n",
       "      <th></th>\n",
       "      <th>name</th>\n",
       "      <th>state</th>\n",
       "      <th>born</th>\n",
       "    </tr>\n",
       "  </thead>\n",
       "  <tbody>\n",
       "    <tr>\n",
       "      <th>1</th>\n",
       "      <td>Pravith</td>\n",
       "      <td>Assam</td>\n",
       "      <td>2003-07-06</td>\n",
       "    </tr>\n",
       "  </tbody>\n",
       "</table>\n",
       "</div>"
      ],
      "text/plain": [
       "      name  state       born\n",
       "1  Pravith  Assam 2003-07-06"
      ]
     },
     "execution_count": 277,
     "metadata": {},
     "output_type": "execute_result"
    }
   ],
   "source": [
    "df.dropna()"
   ]
  },
  {
   "cell_type": "markdown",
   "id": "3635d407",
   "metadata": {},
   "source": [
    "**how** - *{'any', 'all'}, default = 'any'*\n",
    "Determine if row or column is removed from DataFrame, when we have at least one NA or all NA.\n",
    "- 'any' - if any NA values are present, drop that row or column \n",
    "- 'all' - if all values are NA, drop that row or column"
   ]
  },
  {
   "cell_type": "code",
   "execution_count": 278,
   "id": "4a99e2ef",
   "metadata": {},
   "outputs": [
    {
     "data": {
      "text/html": [
       "<div>\n",
       "<style scoped>\n",
       "    .dataframe tbody tr th:only-of-type {\n",
       "        vertical-align: middle;\n",
       "    }\n",
       "\n",
       "    .dataframe tbody tr th {\n",
       "        vertical-align: top;\n",
       "    }\n",
       "\n",
       "    .dataframe thead th {\n",
       "        text-align: right;\n",
       "    }\n",
       "</style>\n",
       "<table border=\"1\" class=\"dataframe\">\n",
       "  <thead>\n",
       "    <tr style=\"text-align: right;\">\n",
       "      <th></th>\n",
       "      <th>name</th>\n",
       "      <th>state</th>\n",
       "      <th>born</th>\n",
       "    </tr>\n",
       "  </thead>\n",
       "  <tbody>\n",
       "    <tr>\n",
       "      <th>0</th>\n",
       "      <td>Ranjith</td>\n",
       "      <td>Telangana</td>\n",
       "      <td>NaT</td>\n",
       "    </tr>\n",
       "    <tr>\n",
       "      <th>1</th>\n",
       "      <td>Pravith</td>\n",
       "      <td>Assam</td>\n",
       "      <td>2003-07-06</td>\n",
       "    </tr>\n",
       "    <tr>\n",
       "      <th>2</th>\n",
       "      <td>Bobby</td>\n",
       "      <td>NaN</td>\n",
       "      <td>NaT</td>\n",
       "    </tr>\n",
       "  </tbody>\n",
       "</table>\n",
       "</div>"
      ],
      "text/plain": [
       "      name      state       born\n",
       "0  Ranjith  Telangana        NaT\n",
       "1  Pravith      Assam 2003-07-06\n",
       "2    Bobby        NaN        NaT"
      ]
     },
     "execution_count": 278,
     "metadata": {},
     "output_type": "execute_result"
    }
   ],
   "source": [
    "df.dropna(how=\"all\")"
   ]
  },
  {
   "cell_type": "code",
   "execution_count": 279,
   "id": "caaf8366",
   "metadata": {},
   "outputs": [],
   "source": [
    "df.loc[1,'born'] = pd.NaT"
   ]
  },
  {
   "cell_type": "code",
   "execution_count": 280,
   "id": "8719c465",
   "metadata": {},
   "outputs": [
    {
     "data": {
      "text/html": [
       "<div>\n",
       "<style scoped>\n",
       "    .dataframe tbody tr th:only-of-type {\n",
       "        vertical-align: middle;\n",
       "    }\n",
       "\n",
       "    .dataframe tbody tr th {\n",
       "        vertical-align: top;\n",
       "    }\n",
       "\n",
       "    .dataframe thead th {\n",
       "        text-align: right;\n",
       "    }\n",
       "</style>\n",
       "<table border=\"1\" class=\"dataframe\">\n",
       "  <thead>\n",
       "    <tr style=\"text-align: right;\">\n",
       "      <th></th>\n",
       "      <th>name</th>\n",
       "      <th>state</th>\n",
       "    </tr>\n",
       "  </thead>\n",
       "  <tbody>\n",
       "    <tr>\n",
       "      <th>0</th>\n",
       "      <td>Ranjith</td>\n",
       "      <td>Telangana</td>\n",
       "    </tr>\n",
       "    <tr>\n",
       "      <th>1</th>\n",
       "      <td>Pravith</td>\n",
       "      <td>Assam</td>\n",
       "    </tr>\n",
       "    <tr>\n",
       "      <th>2</th>\n",
       "      <td>Bobby</td>\n",
       "      <td>NaN</td>\n",
       "    </tr>\n",
       "  </tbody>\n",
       "</table>\n",
       "</div>"
      ],
      "text/plain": [
       "      name      state\n",
       "0  Ranjith  Telangana\n",
       "1  Pravith      Assam\n",
       "2    Bobby        NaN"
      ]
     },
     "execution_count": 280,
     "metadata": {},
     "output_type": "execute_result"
    }
   ],
   "source": [
    "df.dropna(how = \"all\", axis= 1)"
   ]
  },
  {
   "cell_type": "markdown",
   "id": "42825bcf",
   "metadata": {},
   "source": [
    "# drop_duplicates\n",
    "remove the duplicates"
   ]
  },
  {
   "cell_type": "markdown",
   "id": "7d477394",
   "metadata": {},
   "source": [
    "**keep** : *{'first','last',False}, default : 'first'*\n",
    "- first: Drop duplicates except for the first occurence\n",
    "- last : Drop duplicated except for the last occurence\n",
    "- False : Drop all duplicates\n",
    "\n",
    "**subset** : *column label or sequence of labels, optional*\n",
    "- Only consider certain columns for identifying duplicates, by default use all the columns"
   ]
  },
  {
   "cell_type": "code",
   "execution_count": 281,
   "id": "99648a14",
   "metadata": {},
   "outputs": [
    {
     "data": {
      "text/html": [
       "<div>\n",
       "<style scoped>\n",
       "    .dataframe tbody tr th:only-of-type {\n",
       "        vertical-align: middle;\n",
       "    }\n",
       "\n",
       "    .dataframe tbody tr th {\n",
       "        vertical-align: top;\n",
       "    }\n",
       "\n",
       "    .dataframe thead th {\n",
       "        text-align: right;\n",
       "    }\n",
       "</style>\n",
       "<table border=\"1\" class=\"dataframe\">\n",
       "  <thead>\n",
       "    <tr style=\"text-align: right;\">\n",
       "      <th></th>\n",
       "      <th>name</th>\n",
       "      <th>state</th>\n",
       "      <th>born</th>\n",
       "    </tr>\n",
       "  </thead>\n",
       "  <tbody>\n",
       "    <tr>\n",
       "      <th>0</th>\n",
       "      <td>Ranjith</td>\n",
       "      <td>Telangana</td>\n",
       "      <td>NaT</td>\n",
       "    </tr>\n",
       "    <tr>\n",
       "      <th>1</th>\n",
       "      <td>Pravith</td>\n",
       "      <td>Assam</td>\n",
       "      <td>NaT</td>\n",
       "    </tr>\n",
       "    <tr>\n",
       "      <th>2</th>\n",
       "      <td>Ranjith</td>\n",
       "      <td>NaN</td>\n",
       "      <td>NaT</td>\n",
       "    </tr>\n",
       "  </tbody>\n",
       "</table>\n",
       "</div>"
      ],
      "text/plain": [
       "      name      state born\n",
       "0  Ranjith  Telangana  NaT\n",
       "1  Pravith      Assam  NaT\n",
       "2  Ranjith        NaN  NaT"
      ]
     },
     "execution_count": 281,
     "metadata": {},
     "output_type": "execute_result"
    }
   ],
   "source": [
    "df.loc[2,\"name\"] = \"Ranjith\"\n",
    "df"
   ]
  },
  {
   "cell_type": "code",
   "execution_count": 282,
   "id": "2169e5ad",
   "metadata": {},
   "outputs": [
    {
     "data": {
      "text/html": [
       "<div>\n",
       "<style scoped>\n",
       "    .dataframe tbody tr th:only-of-type {\n",
       "        vertical-align: middle;\n",
       "    }\n",
       "\n",
       "    .dataframe tbody tr th {\n",
       "        vertical-align: top;\n",
       "    }\n",
       "\n",
       "    .dataframe thead th {\n",
       "        text-align: right;\n",
       "    }\n",
       "</style>\n",
       "<table border=\"1\" class=\"dataframe\">\n",
       "  <thead>\n",
       "    <tr style=\"text-align: right;\">\n",
       "      <th></th>\n",
       "      <th>name</th>\n",
       "      <th>state</th>\n",
       "      <th>born</th>\n",
       "    </tr>\n",
       "  </thead>\n",
       "  <tbody>\n",
       "    <tr>\n",
       "      <th>0</th>\n",
       "      <td>Ranjith</td>\n",
       "      <td>Telangana</td>\n",
       "      <td>NaT</td>\n",
       "    </tr>\n",
       "    <tr>\n",
       "      <th>1</th>\n",
       "      <td>Pravith</td>\n",
       "      <td>Assam</td>\n",
       "      <td>NaT</td>\n",
       "    </tr>\n",
       "  </tbody>\n",
       "</table>\n",
       "</div>"
      ],
      "text/plain": [
       "      name      state born\n",
       "0  Ranjith  Telangana  NaT\n",
       "1  Pravith      Assam  NaT"
      ]
     },
     "execution_count": 282,
     "metadata": {},
     "output_type": "execute_result"
    }
   ],
   "source": [
    "df.drop_duplicates(subset=['name'])"
   ]
  },
  {
   "cell_type": "code",
   "execution_count": 284,
   "id": "316a115a",
   "metadata": {},
   "outputs": [
    {
     "data": {
      "text/html": [
       "<div>\n",
       "<style scoped>\n",
       "    .dataframe tbody tr th:only-of-type {\n",
       "        vertical-align: middle;\n",
       "    }\n",
       "\n",
       "    .dataframe tbody tr th {\n",
       "        vertical-align: top;\n",
       "    }\n",
       "\n",
       "    .dataframe thead th {\n",
       "        text-align: right;\n",
       "    }\n",
       "</style>\n",
       "<table border=\"1\" class=\"dataframe\">\n",
       "  <thead>\n",
       "    <tr style=\"text-align: right;\">\n",
       "      <th></th>\n",
       "      <th>name</th>\n",
       "      <th>state</th>\n",
       "      <th>born</th>\n",
       "    </tr>\n",
       "  </thead>\n",
       "  <tbody>\n",
       "    <tr>\n",
       "      <th>1</th>\n",
       "      <td>Pravith</td>\n",
       "      <td>Assam</td>\n",
       "      <td>NaT</td>\n",
       "    </tr>\n",
       "    <tr>\n",
       "      <th>2</th>\n",
       "      <td>Ranjith</td>\n",
       "      <td>NaN</td>\n",
       "      <td>NaT</td>\n",
       "    </tr>\n",
       "  </tbody>\n",
       "</table>\n",
       "</div>"
      ],
      "text/plain": [
       "      name  state born\n",
       "1  Pravith  Assam  NaT\n",
       "2  Ranjith    NaN  NaT"
      ]
     },
     "execution_count": 284,
     "metadata": {},
     "output_type": "execute_result"
    }
   ],
   "source": [
    "df.drop_duplicates(subset=['name'], keep='last')"
   ]
  },
  {
   "cell_type": "code",
   "execution_count": 285,
   "id": "1e4e8add",
   "metadata": {},
   "outputs": [
    {
     "data": {
      "text/html": [
       "<div>\n",
       "<style scoped>\n",
       "    .dataframe tbody tr th:only-of-type {\n",
       "        vertical-align: middle;\n",
       "    }\n",
       "\n",
       "    .dataframe tbody tr th {\n",
       "        vertical-align: top;\n",
       "    }\n",
       "\n",
       "    .dataframe thead th {\n",
       "        text-align: right;\n",
       "    }\n",
       "</style>\n",
       "<table border=\"1\" class=\"dataframe\">\n",
       "  <thead>\n",
       "    <tr style=\"text-align: right;\">\n",
       "      <th></th>\n",
       "      <th>name</th>\n",
       "      <th>state</th>\n",
       "      <th>born</th>\n",
       "    </tr>\n",
       "  </thead>\n",
       "  <tbody>\n",
       "    <tr>\n",
       "      <th>1</th>\n",
       "      <td>Pravith</td>\n",
       "      <td>Assam</td>\n",
       "      <td>NaT</td>\n",
       "    </tr>\n",
       "  </tbody>\n",
       "</table>\n",
       "</div>"
      ],
      "text/plain": [
       "      name  state born\n",
       "1  Pravith  Assam  NaT"
      ]
     },
     "execution_count": 285,
     "metadata": {},
     "output_type": "execute_result"
    }
   ],
   "source": [
    "df.drop_duplicates(subset=['name'],keep=False)"
   ]
  },
  {
   "cell_type": "markdown",
   "id": "d4e21edf",
   "metadata": {},
   "source": [
    "-----------"
   ]
  },
  {
   "cell_type": "code",
   "execution_count": 286,
   "id": "9ebdf526",
   "metadata": {},
   "outputs": [
    {
     "data": {
      "text/plain": [
       "(3, 3)"
      ]
     },
     "execution_count": 286,
     "metadata": {},
     "output_type": "execute_result"
    }
   ],
   "source": [
    "df.shape"
   ]
  },
  {
   "cell_type": "code",
   "execution_count": 287,
   "id": "bcb73432",
   "metadata": {},
   "outputs": [
    {
     "name": "stdout",
     "output_type": "stream",
     "text": [
      "<class 'pandas.core.frame.DataFrame'>\n",
      "RangeIndex: 3 entries, 0 to 2\n",
      "Data columns (total 3 columns):\n",
      " #   Column  Non-Null Count  Dtype         \n",
      "---  ------  --------------  -----         \n",
      " 0   name    3 non-null      object        \n",
      " 1   state   2 non-null      object        \n",
      " 2   born    0 non-null      datetime64[ns]\n",
      "dtypes: datetime64[ns](1), object(2)\n",
      "memory usage: 200.0+ bytes\n"
     ]
    }
   ],
   "source": [
    "df.info()"
   ]
  },
  {
   "cell_type": "code",
   "execution_count": 288,
   "id": "0cce9336",
   "metadata": {},
   "outputs": [
    {
     "data": {
      "text/plain": [
       "Ranjith    2\n",
       "Pravith    1\n",
       "Name: name, dtype: int64"
      ]
     },
     "execution_count": 288,
     "metadata": {},
     "output_type": "execute_result"
    }
   ],
   "source": [
    "df['name'].value_counts(dropna=False)"
   ]
  },
  {
   "cell_type": "code",
   "execution_count": 292,
   "id": "b6e3264f",
   "metadata": {},
   "outputs": [
    {
     "data": {
      "text/plain": [
       "Telangana    1\n",
       "Assam        1\n",
       "Name: state, dtype: int64"
      ]
     },
     "execution_count": 292,
     "metadata": {},
     "output_type": "execute_result"
    }
   ],
   "source": [
    "df['state'].value_counts(dropna=True)"
   ]
  },
  {
   "cell_type": "markdown",
   "id": "29c08088",
   "metadata": {},
   "source": [
    "---------------"
   ]
  },
  {
   "cell_type": "markdown",
   "id": "a973187b",
   "metadata": {},
   "source": [
    "# Assignment\n",
    "\n",
    "Create a dataframe which contains only integers with 3 rows and 2 columns.\n",
    "\n",
    "Run following dataframe methods on them:\n",
    "\n",
    "- df.describe()\n",
    "- df.mean()\n",
    "- df.corr()\n",
    "- df.count()\n",
    "- df.max()\n",
    "- df.min()\n",
    "- df.median()\n",
    "- df.std()"
   ]
  },
  {
   "cell_type": "markdown",
   "id": "dd585002",
   "metadata": {},
   "source": []
  },
  {
   "cell_type": "markdown",
   "id": "7e901ce6",
   "metadata": {},
   "source": [
    "------------------------"
   ]
  },
  {
   "cell_type": "markdown",
   "id": "cc8b18a2",
   "metadata": {},
   "source": [
    "# Dealing with Excel Sheets"
   ]
  },
  {
   "cell_type": "code",
   "execution_count": 6,
   "id": "cc68d763",
   "metadata": {},
   "outputs": [
    {
     "ename": "NameError",
     "evalue": "name 'pd' is not defined",
     "output_type": "error",
     "traceback": [
      "\u001b[0;31m---------------------------------------------------------------------------\u001b[0m",
      "\u001b[0;31mNameError\u001b[0m                                 Traceback (most recent call last)",
      "Input \u001b[0;32mIn [6]\u001b[0m, in \u001b[0;36m<cell line: 1>\u001b[0;34m()\u001b[0m\n\u001b[0;32m----> 1\u001b[0m data \u001b[38;5;241m=\u001b[39m \u001b[43mpd\u001b[49m\u001b[38;5;241m.\u001b[39mread_excel(\u001b[38;5;124m'\u001b[39m\u001b[38;5;124mdata.xlsx\u001b[39m\u001b[38;5;124m'\u001b[39m)\n",
      "\u001b[0;31mNameError\u001b[0m: name 'pd' is not defined"
     ]
    }
   ],
   "source": [
    "data = pd.read_excel('data.xlsx')"
   ]
  },
  {
   "cell_type": "code",
   "execution_count": 2,
   "id": "f0fae10e",
   "metadata": {},
   "outputs": [
    {
     "ename": "NameError",
     "evalue": "name 'pd' is not defined",
     "output_type": "error",
     "traceback": [
      "\u001b[0;31m---------------------------------------------------------------------------\u001b[0m",
      "\u001b[0;31mNameError\u001b[0m                                 Traceback (most recent call last)",
      "Input \u001b[0;32mIn [2]\u001b[0m, in \u001b[0;36m<cell line: 1>\u001b[0;34m()\u001b[0m\n\u001b[0;32m----> 1\u001b[0m data \u001b[38;5;241m=\u001b[39m \u001b[43mpd\u001b[49m\u001b[38;5;241m.\u001b[39mread_excel(\u001b[38;5;124m'\u001b[39m\u001b[38;5;124mdata.xlsx\u001b[39m\u001b[38;5;124m'\u001b[39m, sheet_name \u001b[38;5;241m=\u001b[39m \u001b[38;5;124m'\u001b[39m\u001b[38;5;124mSheet2\u001b[39m\u001b[38;5;124m'\u001b[39m)\n",
      "\u001b[0;31mNameError\u001b[0m: name 'pd' is not defined"
     ]
    }
   ],
   "source": [
    "data2 = pd.read_excel('data.xlsx', sheet_name = 'Sheet2')"
   ]
  },
  {
   "cell_type": "code",
   "execution_count": 3,
   "id": "41440742",
   "metadata": {},
   "outputs": [
    {
     "ename": "NameError",
     "evalue": "name 'data' is not defined",
     "output_type": "error",
     "traceback": [
      "\u001b[0;31m---------------------------------------------------------------------------\u001b[0m",
      "\u001b[0;31mNameError\u001b[0m                                 Traceback (most recent call last)",
      "Input \u001b[0;32mIn [3]\u001b[0m, in \u001b[0;36m<cell line: 1>\u001b[0;34m()\u001b[0m\n\u001b[0;32m----> 1\u001b[0m \u001b[43mdata\u001b[49m\n",
      "\u001b[0;31mNameError\u001b[0m: name 'data' is not defined"
     ]
    }
   ],
   "source": [
    "data2"
   ]
  },
  {
   "cell_type": "code",
   "execution_count": 4,
   "id": "baf04489",
   "metadata": {},
   "outputs": [
    {
     "ename": "NameError",
     "evalue": "name 'data' is not defined",
     "output_type": "error",
     "traceback": [
      "\u001b[0;31m---------------------------------------------------------------------------\u001b[0m",
      "\u001b[0;31mNameError\u001b[0m                                 Traceback (most recent call last)",
      "Input \u001b[0;32mIn [4]\u001b[0m, in \u001b[0;36m<cell line: 1>\u001b[0;34m()\u001b[0m\n\u001b[0;32m----> 1\u001b[0m \u001b[43mdata\u001b[49m\u001b[38;5;241m.\u001b[39miloc[\u001b[38;5;241m0\u001b[39m,\u001b[38;5;241m0\u001b[39m] \u001b[38;5;241m=\u001b[39m \u001b[38;5;241m34\u001b[39m\n",
      "\u001b[0;31mNameError\u001b[0m: name 'data' is not defined"
     ]
    }
   ],
   "source": [
    "data.iloc[0,0] = 34"
   ]
  },
  {
   "cell_type": "code",
   "execution_count": 5,
   "id": "77283ecb",
   "metadata": {},
   "outputs": [
    {
     "ename": "NameError",
     "evalue": "name 'data' is not defined",
     "output_type": "error",
     "traceback": [
      "\u001b[0;31m---------------------------------------------------------------------------\u001b[0m",
      "\u001b[0;31mNameError\u001b[0m                                 Traceback (most recent call last)",
      "Input \u001b[0;32mIn [5]\u001b[0m, in \u001b[0;36m<cell line: 1>\u001b[0;34m()\u001b[0m\n\u001b[0;32m----> 1\u001b[0m \u001b[43mdata\u001b[49m\n",
      "\u001b[0;31mNameError\u001b[0m: name 'data' is not defined"
     ]
    }
   ],
   "source": [
    "data"
   ]
  },
  {
   "cell_type": "code",
   "execution_count": null,
   "id": "a2c35393",
   "metadata": {},
   "outputs": [],
   "source": [
    "data.to_excel('data.xlsx', sheet_name = 'Sheet2')"
   ]
  }
 ],
 "metadata": {
  "kernelspec": {
   "display_name": "Python 3 (ipykernel)",
   "language": "python",
   "name": "python3"
  },
  "language_info": {
   "codemirror_mode": {
    "name": "ipython",
    "version": 3
   },
   "file_extension": ".py",
   "mimetype": "text/x-python",
   "name": "python",
   "nbconvert_exporter": "python",
   "pygments_lexer": "ipython3",
   "version": "3.9.7"
  },
  "vscode": {
   "interpreter": {
    "hash": "31f2aee4e71d21fbe5cf8b01ff0e069b9275f58929596ceb00d14d90e3e16cd6"
   }
  }
 },
 "nbformat": 4,
 "nbformat_minor": 5
}
